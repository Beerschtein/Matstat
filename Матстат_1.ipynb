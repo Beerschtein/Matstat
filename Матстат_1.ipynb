{
 "cells": [
  {
   "cell_type": "code",
   "execution_count": 65,
   "id": "3c3833ed",
   "metadata": {},
   "outputs": [],
   "source": [
    "import numpy as np\n",
    "from math import factorial"
   ]
  },
  {
   "cell_type": "code",
   "execution_count": null,
   "id": "87f280f6",
   "metadata": {},
   "outputs": [],
   "source": []
  },
  {
   "cell_type": "code",
   "execution_count": 66,
   "id": "c4827a80",
   "metadata": {},
   "outputs": [],
   "source": [
    "# Задание-1\n",
    "# Из колоды в 52 карты извлекаются случайным образом 4 карты. \n",
    "# a) Найти вероятность того, что все карты – крести. \n",
    "# б) Найти вероятность, что среди 4-х карт окажется хотя бы один туз."
   ]
  },
  {
   "cell_type": "code",
   "execution_count": 67,
   "id": "aa246d1d",
   "metadata": {},
   "outputs": [],
   "source": [
    "# Решение а): Пусть событие А - вероятность того, что четыре вытянутые из колоды\n",
    "# карты будут крестовыми. В колоде всего 4 масти, а значит крестей 52 / 4 = 13 карт.\n",
    "# Найдем общее число случаев n для 4 карт из 52:"
   ]
  },
  {
   "cell_type": "code",
   "execution_count": 68,
   "id": "cf40a6c0",
   "metadata": {},
   "outputs": [
    {
     "data": {
      "text/plain": [
       "270725"
      ]
     },
     "execution_count": 68,
     "metadata": {},
     "output_type": "execute_result"
    }
   ],
   "source": [
    "n = combinations(52, 4)\n",
    "n"
   ]
  },
  {
   "cell_type": "code",
   "execution_count": 69,
   "id": "1408fa3a",
   "metadata": {},
   "outputs": [],
   "source": [
    "# Далее найдем количество благоприятных случаев выбора четырех крестовых карт из 13:"
   ]
  },
  {
   "cell_type": "code",
   "execution_count": 70,
   "id": "c1b0cde4",
   "metadata": {},
   "outputs": [
    {
     "data": {
      "text/plain": [
       "715"
      ]
     },
     "execution_count": 70,
     "metadata": {},
     "output_type": "execute_result"
    }
   ],
   "source": [
    "m = combinations(13, 4)\n",
    "m"
   ]
  },
  {
   "cell_type": "code",
   "execution_count": 71,
   "id": "7bd40926",
   "metadata": {},
   "outputs": [],
   "source": [
    "# Воспользуемся общей формулой теории вероятностей P(A) = m / n"
   ]
  },
  {
   "cell_type": "code",
   "execution_count": 111,
   "id": "4e7d7da8",
   "metadata": {},
   "outputs": [
    {
     "data": {
      "text/plain": [
       "0.18461538461538463"
      ]
     },
     "execution_count": 111,
     "metadata": {},
     "output_type": "execute_result"
    }
   ],
   "source": [
    "p = m / n\n",
    "p"
   ]
  },
  {
   "cell_type": "markdown",
   "id": "20589442",
   "metadata": {},
   "source": [
    "#### Ответ: вероятность что все карты крести равна 0.0026410564225690276."
   ]
  },
  {
   "cell_type": "code",
   "execution_count": 112,
   "id": "c55b97c5",
   "metadata": {},
   "outputs": [],
   "source": [
    "# Решение б): условию задачи удовлетворяет четыре варианта событий: когда среди четырех карт\n",
    "# один туз, два туза, три туза или четыре туза. Следовательно, необходимо найти число\n",
    "# благоприятных событий для каждого из четырех вариантов, разделить на общее число исходов\n",
    "# и затем полученный результат сложить, поскольку это сумма событий: или вариант один,\n",
    "# илп два, или три, или вариант четыре."
   ]
  },
  {
   "cell_type": "code",
   "execution_count": 75,
   "id": "6dc30d19",
   "metadata": {},
   "outputs": [
    {
     "data": {
      "text/plain": [
       "4"
      ]
     },
     "execution_count": 75,
     "metadata": {},
     "output_type": "execute_result"
    }
   ],
   "source": [
    "# Вариант 1:\n",
    "v1 = combinations(4, 1)\n",
    "v1"
   ]
  },
  {
   "cell_type": "code",
   "execution_count": 76,
   "id": "df933d32",
   "metadata": {},
   "outputs": [
    {
     "data": {
      "text/plain": [
       "17296"
      ]
     },
     "execution_count": 76,
     "metadata": {},
     "output_type": "execute_result"
    }
   ],
   "source": [
    "# c1 - количество комбинаций 3-х карт из 48 (52 - 4 = 48). Соответственно:\n",
    "# c2 - 2 из 48, с3 - 1 из 48, с4 - 0 из 48.\n",
    "c1 = combinations(48, 3)\n",
    "c1"
   ]
  },
  {
   "cell_type": "code",
   "execution_count": 77,
   "id": "22be8fd2",
   "metadata": {},
   "outputs": [
    {
     "data": {
      "text/plain": [
       "69184"
      ]
     },
     "execution_count": 77,
     "metadata": {},
     "output_type": "execute_result"
    }
   ],
   "source": [
    "# m1 - количество возможных комбинаций с одним тузом\n",
    "m1 = v1 * c1\n",
    "m1"
   ]
  },
  {
   "cell_type": "code",
   "execution_count": 78,
   "id": "cf2ee7fc",
   "metadata": {},
   "outputs": [
    {
     "data": {
      "text/plain": [
       "6"
      ]
     },
     "execution_count": 78,
     "metadata": {},
     "output_type": "execute_result"
    }
   ],
   "source": [
    "# Вариант 2:\n",
    "v2 = combinations(4, 2)\n",
    "v2"
   ]
  },
  {
   "cell_type": "code",
   "execution_count": 79,
   "id": "ab3faaa8",
   "metadata": {},
   "outputs": [
    {
     "data": {
      "text/plain": [
       "1128"
      ]
     },
     "execution_count": 79,
     "metadata": {},
     "output_type": "execute_result"
    }
   ],
   "source": [
    "c2 = combinations(48, 2)\n",
    "c2"
   ]
  },
  {
   "cell_type": "code",
   "execution_count": 80,
   "id": "4d5272ee",
   "metadata": {},
   "outputs": [
    {
     "data": {
      "text/plain": [
       "6768"
      ]
     },
     "execution_count": 80,
     "metadata": {},
     "output_type": "execute_result"
    }
   ],
   "source": [
    "m2 = v2 * c2\n",
    "m2"
   ]
  },
  {
   "cell_type": "code",
   "execution_count": 81,
   "id": "4b24c2cc",
   "metadata": {},
   "outputs": [
    {
     "data": {
      "text/plain": [
       "4"
      ]
     },
     "execution_count": 81,
     "metadata": {},
     "output_type": "execute_result"
    }
   ],
   "source": [
    "# Вариант 3:\n",
    "v3 = combinations(4, 3)\n",
    "v3"
   ]
  },
  {
   "cell_type": "code",
   "execution_count": 82,
   "id": "b00350e6",
   "metadata": {},
   "outputs": [
    {
     "data": {
      "text/plain": [
       "48"
      ]
     },
     "execution_count": 82,
     "metadata": {},
     "output_type": "execute_result"
    }
   ],
   "source": [
    "c3 = combinations(48, 1)\n",
    "c3"
   ]
  },
  {
   "cell_type": "code",
   "execution_count": 83,
   "id": "d2e46606",
   "metadata": {},
   "outputs": [
    {
     "data": {
      "text/plain": [
       "192"
      ]
     },
     "execution_count": 83,
     "metadata": {},
     "output_type": "execute_result"
    }
   ],
   "source": [
    "m3 = v3 * c3\n",
    "m3"
   ]
  },
  {
   "cell_type": "code",
   "execution_count": 84,
   "id": "a966781e",
   "metadata": {},
   "outputs": [
    {
     "data": {
      "text/plain": [
       "1"
      ]
     },
     "execution_count": 84,
     "metadata": {},
     "output_type": "execute_result"
    }
   ],
   "source": [
    "# Вариант 4:\n",
    "v4 = combinations(4, 4)\n",
    "v4"
   ]
  },
  {
   "cell_type": "code",
   "execution_count": 85,
   "id": "821c09de",
   "metadata": {},
   "outputs": [
    {
     "data": {
      "text/plain": [
       "1"
      ]
     },
     "execution_count": 85,
     "metadata": {},
     "output_type": "execute_result"
    }
   ],
   "source": [
    "c4 = combinations(48, 0)\n",
    "c4"
   ]
  },
  {
   "cell_type": "code",
   "execution_count": 86,
   "id": "aff36940",
   "metadata": {},
   "outputs": [
    {
     "data": {
      "text/plain": [
       "1"
      ]
     },
     "execution_count": 86,
     "metadata": {},
     "output_type": "execute_result"
    }
   ],
   "source": [
    "m4 = v4 * c4\n",
    "m4"
   ]
  },
  {
   "cell_type": "code",
   "execution_count": 87,
   "id": "0adec130",
   "metadata": {},
   "outputs": [
    {
     "data": {
      "text/plain": [
       "270725"
      ]
     },
     "execution_count": 87,
     "metadata": {},
     "output_type": "execute_result"
    }
   ],
   "source": [
    "# Общее число исходов n\n",
    "n = combinations(52, 4)\n",
    "n"
   ]
  },
  {
   "cell_type": "code",
   "execution_count": 88,
   "id": "c0ee7d5b",
   "metadata": {},
   "outputs": [
    {
     "data": {
      "text/plain": [
       "0.25555083571890297"
      ]
     },
     "execution_count": 88,
     "metadata": {},
     "output_type": "execute_result"
    }
   ],
   "source": [
    "p1 = m1 / n\n",
    "p1"
   ]
  },
  {
   "cell_type": "code",
   "execution_count": 89,
   "id": "fd63b5f3",
   "metadata": {},
   "outputs": [
    {
     "data": {
      "text/plain": [
       "0.0249995382768492"
      ]
     },
     "execution_count": 89,
     "metadata": {},
     "output_type": "execute_result"
    }
   ],
   "source": [
    "p2 = m2 / n\n",
    "p2"
   ]
  },
  {
   "cell_type": "code",
   "execution_count": 90,
   "id": "a3162246",
   "metadata": {},
   "outputs": [
    {
     "data": {
      "text/plain": [
       "0.0007092067596269276"
      ]
     },
     "execution_count": 90,
     "metadata": {},
     "output_type": "execute_result"
    }
   ],
   "source": [
    "p3 = m3 / n\n",
    "p3"
   ]
  },
  {
   "cell_type": "code",
   "execution_count": 91,
   "id": "4e6a35a5",
   "metadata": {},
   "outputs": [
    {
     "data": {
      "text/plain": [
       "3.6937852063902484e-06"
      ]
     },
     "execution_count": 91,
     "metadata": {},
     "output_type": "execute_result"
    }
   ],
   "source": [
    "p4 = m4 / n\n",
    "p4"
   ]
  },
  {
   "cell_type": "code",
   "execution_count": 92,
   "id": "26c16ddb",
   "metadata": {},
   "outputs": [
    {
     "data": {
      "text/plain": [
       "0.2812632745405855"
      ]
     },
     "execution_count": 92,
     "metadata": {},
     "output_type": "execute_result"
    }
   ],
   "source": [
    "# Искомая вероятность равна:\n",
    "p = p1 + p2 + p3 + p4\n",
    "p"
   ]
  },
  {
   "cell_type": "code",
   "execution_count": 93,
   "id": "f8c34421",
   "metadata": {},
   "outputs": [],
   "source": [
    "# Ответ: вероятность, что среди 4-х случайно вытащенных из колоды карт окажется хотя бы один туз\n",
    "# равняется 0.2812632745405855."
   ]
  },
  {
   "cell_type": "code",
   "execution_count": null,
   "id": "0a69711b",
   "metadata": {},
   "outputs": [],
   "source": []
  },
  {
   "cell_type": "code",
   "execution_count": 94,
   "id": "9a75093e",
   "metadata": {},
   "outputs": [],
   "source": [
    "# Задание-2\n",
    "# На входной двери подъезда установлен кодовый замок, содержащий десять кнопок с цифрами от 0 до 9. \n",
    "# Код содержит три цифры, которые нужно нажать одновременно. \n",
    "# Какова вероятность того, что человек, не знающий код, откроет дверь с первой попытки?"
   ]
  },
  {
   "cell_type": "code",
   "execution_count": 95,
   "id": "48ca6fc9",
   "metadata": {},
   "outputs": [],
   "source": [
    "# Решение: применим формулу классической вероятности. \n",
    "# Сначала найдем количество всех возможных сочетаний из трех кнопок в десятикнопочном коде.\n",
    "# Затем разделим количество благоприятных исходов на это число.\n",
    "# Так как верный код всего один, то количество благоприятных ичходов равно 1."
   ]
  },
  {
   "cell_type": "code",
   "execution_count": 96,
   "id": "dba15ad7",
   "metadata": {},
   "outputs": [],
   "source": [
    "# Количество сочетаний, где количество кнопок кода n=10, к=3 количество кнопок кода, которые надо одновременно нажать,\n",
    "# m-вероятность открыть замок с первого раза.\n",
    "def combinations(n, k):\n",
    "    return int(factorial(n) / (factorial(k) * factorial(n - k)))"
   ]
  },
  {
   "cell_type": "code",
   "execution_count": 97,
   "id": "ef7318e9",
   "metadata": {},
   "outputs": [],
   "source": [
    "n = combinations(10, 3)"
   ]
  },
  {
   "cell_type": "code",
   "execution_count": 98,
   "id": "a646bdb8",
   "metadata": {},
   "outputs": [
    {
     "data": {
      "text/plain": [
       "0.008333333333333333"
      ]
     },
     "execution_count": 98,
     "metadata": {},
     "output_type": "execute_result"
    }
   ],
   "source": [
    "m = 1 / n\n",
    "m"
   ]
  },
  {
   "cell_type": "markdown",
   "id": "5d3e8302",
   "metadata": {},
   "source": [
    "Ответ: вероятность открыть с первого раза равна 0.008333333333333333."
   ]
  },
  {
   "cell_type": "code",
   "execution_count": null,
   "id": "ca426d6f",
   "metadata": {},
   "outputs": [],
   "source": []
  },
  {
   "cell_type": "code",
   "execution_count": 99,
   "id": "a81f8246",
   "metadata": {},
   "outputs": [],
   "source": [
    "# Задание-3\n",
    "# В ящике имеется 15 деталей, из которых 9 окрашены. \n",
    "# Рабочий случайным образом извлекает 3 детали. \n",
    "# Какова вероятность того, что все извлеченные детали окрашены?"
   ]
  },
  {
   "cell_type": "code",
   "execution_count": 100,
   "id": "3d19c783",
   "metadata": {},
   "outputs": [],
   "source": [
    "# Решение: так как у нас имеется група событий и они все должны произойти единовременно, \n",
    "# то мы применим формулу произведения событий: P(A) = P(B1)*P(B2)*P(B3)\n",
    "# Событие В1 - из 15 деталей окрашены 9,\n",
    "# событие В2 - из 14 деталей окрашены 8,\n",
    "# событие В3 - из 13 деталей окрашены 7."
   ]
  },
  {
   "cell_type": "code",
   "execution_count": 101,
   "id": "e9babb97",
   "metadata": {},
   "outputs": [],
   "source": [
    "b1 = 9/15\n",
    "b2 = 8/14\n",
    "b3 = 7/13"
   ]
  },
  {
   "cell_type": "code",
   "execution_count": 102,
   "id": "4ebe805b",
   "metadata": {},
   "outputs": [
    {
     "data": {
      "text/plain": [
       "0.18461538461538457"
      ]
     },
     "execution_count": 102,
     "metadata": {},
     "output_type": "execute_result"
    }
   ],
   "source": [
    "m = b1*b2*b3\n",
    "m"
   ]
  },
  {
   "cell_type": "markdown",
   "id": "d4182fc5",
   "metadata": {},
   "source": [
    "Ответ-1: вероятность 0.18461538461538457."
   ]
  },
  {
   "cell_type": "code",
   "execution_count": 104,
   "id": "9c08078d",
   "metadata": {},
   "outputs": [],
   "source": [
    "# Попробуем решить задачу другим способом:\n",
    "# Пусть m — количество комбинаций извлечения трех окрашенных деталей из девяти.\n",
    "# n —  общее число извлечения трех деталей из пятнадцати.\n",
    "# P(A) = m/n"
   ]
  },
  {
   "cell_type": "code",
   "execution_count": 105,
   "id": "e42e7194",
   "metadata": {},
   "outputs": [
    {
     "data": {
      "text/plain": [
       "84"
      ]
     },
     "execution_count": 105,
     "metadata": {},
     "output_type": "execute_result"
    }
   ],
   "source": [
    "m = combinations(9, 3)\n",
    "m"
   ]
  },
  {
   "cell_type": "code",
   "execution_count": 106,
   "id": "d3a272ee",
   "metadata": {},
   "outputs": [
    {
     "data": {
      "text/plain": [
       "455"
      ]
     },
     "execution_count": 106,
     "metadata": {},
     "output_type": "execute_result"
    }
   ],
   "source": [
    "n = combinations(15, 3)\n",
    "n"
   ]
  },
  {
   "cell_type": "code",
   "execution_count": 110,
   "id": "6396d365",
   "metadata": {},
   "outputs": [
    {
     "data": {
      "text/plain": [
       "0.18461538461538463"
      ]
     },
     "execution_count": 110,
     "metadata": {},
     "output_type": "execute_result"
    }
   ],
   "source": [
    "p = m/n\n",
    "p"
   ]
  },
  {
   "cell_type": "markdown",
   "id": "6983667f",
   "metadata": {},
   "source": [
    "\n",
    "Ответ-2: вероятность 0.18461538461538463."
   ]
  },
  {
   "cell_type": "code",
   "execution_count": 109,
   "id": "1acd4363",
   "metadata": {},
   "outputs": [],
   "source": [
    "# Результат неожиданный для меня: вероятность совпала до 15-й цифры после запятой,\n",
    "# но не в точности одинаковая! Почему? \n",
    "# При округлениях в процессе вычисления? \n",
    "# А такое допускается?"
   ]
  },
  {
   "cell_type": "code",
   "execution_count": null,
   "id": "b26281b3",
   "metadata": {},
   "outputs": [],
   "source": []
  },
  {
   "cell_type": "code",
   "execution_count": 9,
   "id": "0eb0a55d",
   "metadata": {},
   "outputs": [],
   "source": [
    "# Задание-4\n",
    "# В лотерее 100 билетов. Из них 2 выигрышных. \n",
    "# Какова вероятность того, что 2 приобретенных билета окажутся выигрышными?"
   ]
  },
  {
   "cell_type": "code",
   "execution_count": 10,
   "id": "5414bafe",
   "metadata": {},
   "outputs": [],
   "source": [
    "# Решение: найдем b - количество сочетаний двух билетов (к=2) из из \n",
    "# общего количества билетов (n=100). Так как благоприятный исход всего один,\n",
    "# (два билета из двух), то m = 1 / b."
   ]
  },
  {
   "cell_type": "code",
   "execution_count": 11,
   "id": "d54944a8",
   "metadata": {},
   "outputs": [
    {
     "data": {
      "text/plain": [
       "4950"
      ]
     },
     "execution_count": 11,
     "metadata": {},
     "output_type": "execute_result"
    }
   ],
   "source": [
    "b = combinations(100, 2)\n",
    "b"
   ]
  },
  {
   "cell_type": "code",
   "execution_count": 12,
   "id": "d1228b5c",
   "metadata": {},
   "outputs": [
    {
     "data": {
      "text/plain": [
       "0.00020202020202020202"
      ]
     },
     "execution_count": 12,
     "metadata": {},
     "output_type": "execute_result"
    }
   ],
   "source": [
    "m = 1 / b\n",
    "m"
   ]
  },
  {
   "cell_type": "code",
   "execution_count": null,
   "id": "924dd400",
   "metadata": {},
   "outputs": [],
   "source": [
    "# Если вытягивать билеты из пачки по-одному, то мы получим ситуацию:\n",
    "# B1 = 1/100  и B2 = 1/99. Тогда А = В1*В2"
   ]
  },
  {
   "cell_type": "code",
   "execution_count": 42,
   "id": "64066ac2",
   "metadata": {},
   "outputs": [
    {
     "data": {
      "text/plain": [
       "0.00010101010101010102"
      ]
     },
     "execution_count": 42,
     "metadata": {},
     "output_type": "execute_result"
    }
   ],
   "source": [
    "b1 = 1 / 100\n",
    "b2 = 1 / 99\n",
    "a = b1*b2\n",
    "a"
   ]
  },
  {
   "cell_type": "code",
   "execution_count": null,
   "id": "c3413648",
   "metadata": {},
   "outputs": [],
   "source": [
    "# Елена, я зашел в тупик: Если я покупаю сразу два билета вероятность выигрыша 0.0002,\n",
    "# а если я купил один билет и не отходя от ларька через секунду покупаю второй билет из этой пачкиБ\n",
    "# то вероятность 0.0001. В чем подвох? Где я ошибаюсь?"
   ]
  }
 ],
 "metadata": {
  "kernelspec": {
   "display_name": "Python 3",
   "language": "python",
   "name": "python3"
  },
  "language_info": {
   "codemirror_mode": {
    "name": "ipython",
    "version": 3
   },
   "file_extension": ".py",
   "mimetype": "text/x-python",
   "name": "python",
   "nbconvert_exporter": "python",
   "pygments_lexer": "ipython3",
   "version": "3.8.8"
  }
 },
 "nbformat": 4,
 "nbformat_minor": 5
}
