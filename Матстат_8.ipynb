{
 "cells": [
  {
   "cell_type": "code",
   "execution_count": 10,
   "id": "6e12865e",
   "metadata": {},
   "outputs": [],
   "source": [
    "import numpy as np\n",
    "from scipy import stats"
   ]
  },
  {
   "cell_type": "code",
   "execution_count": 11,
   "id": "09de92ae",
   "metadata": {},
   "outputs": [],
   "source": [
    "# stats.f_oneway?"
   ]
  },
  {
   "cell_type": "markdown",
   "id": "ed22d4cd",
   "metadata": {},
   "source": [
    "#### Задача"
   ]
  },
  {
   "cell_type": "code",
   "execution_count": 12,
   "id": "bf8ec74b",
   "metadata": {},
   "outputs": [],
   "source": [
    "# Провести дисперсионный анализ для определения того, есть ли различия среднего роста \n",
    "# среди взрослых футболистов, хоккеистов и штангистов.  \n",
    "# Даны значения роста в трех группах случайно выбранных спортсменов: \n",
    "# Футболисты: 173, 175, 180, 178, 177, 185, 183, 182. \n",
    "# Хоккеисты: 177, 179, 180, 188, 177, 172, 171, 184, 180. \n",
    "# Штангисты: 172, 173, 169, 177, 166, 180, 178, 177, 172, 166, 170.\n",
    "# Сделать вывод для альфа 1% и 5%"
   ]
  },
  {
   "cell_type": "code",
   "execution_count": 13,
   "id": "3771940c",
   "metadata": {},
   "outputs": [
    {
     "data": {
      "text/plain": [
       "array([173, 175, 180, 178, 177, 185, 183, 182])"
      ]
     },
     "execution_count": 13,
     "metadata": {},
     "output_type": "execute_result"
    }
   ],
   "source": [
    "# Решение: сформулируем нулевую гипотезу Н0: mu1=mu2=mu3/\n",
    "# Проведем дисперсионный анализ и сравним результаты анализа \n",
    "# с уровнем aflpha=0.05 и alpha=0.01.\n",
    "y_f = np.array([173, 175, 180, 178, 177, 185, 183, 182])\n",
    "y_f"
   ]
  },
  {
   "cell_type": "code",
   "execution_count": 14,
   "id": "cc02217c",
   "metadata": {},
   "outputs": [
    {
     "data": {
      "text/plain": [
       "array([177, 179, 180, 188, 177, 172, 171, 184, 180])"
      ]
     },
     "execution_count": 14,
     "metadata": {},
     "output_type": "execute_result"
    }
   ],
   "source": [
    "y_h = np.array([177, 179, 180, 188, 177, 172, 171, 184, 180])\n",
    "y_h"
   ]
  },
  {
   "cell_type": "code",
   "execution_count": 15,
   "id": "89f6cbfe",
   "metadata": {},
   "outputs": [
    {
     "data": {
      "text/plain": [
       "array([172, 173, 169, 177, 166, 180, 178, 177, 172, 166, 170])"
      ]
     },
     "execution_count": 15,
     "metadata": {},
     "output_type": "execute_result"
    }
   ],
   "source": [
    "y_w = np.array([172, 173, 169, 177, 166, 180, 178, 177, 172, 166, 170])\n",
    "y_w"
   ]
  },
  {
   "cell_type": "code",
   "execution_count": 16,
   "id": "2558cd07",
   "metadata": {},
   "outputs": [
    {
     "data": {
      "text/plain": [
       "F_onewayResult(statistic=5.500053450812596, pvalue=0.010482206918698694)"
      ]
     },
     "execution_count": 16,
     "metadata": {},
     "output_type": "execute_result"
    }
   ],
   "source": [
    "stats.f_oneway(y_f,y_h,y_w)"
   ]
  },
  {
   "cell_type": "code",
   "execution_count": 17,
   "id": "210f8f2a",
   "metadata": {},
   "outputs": [],
   "source": [
    "# В результате получили значение pvalue=0.010482206918698694. Мы видим, что \n",
    "# при alpha=0.05 различия среднего роста в групах \n",
    "# статистически значимы. И наоборот: при уровне alpha=0.01 разница среднего роста в группах не имеет\n",
    "# выраженной статистической значимости.\n",
    "# Вывод: в случае применения критерия Фишера-Снедекора уменьшение значения alpha ведет к \n",
    "# возрастанию вероятности ошибки второго рода и наоборот."
   ]
  }
 ],
 "metadata": {
  "kernelspec": {
   "display_name": "Python 3",
   "language": "python",
   "name": "python3"
  },
  "language_info": {
   "codemirror_mode": {
    "name": "ipython",
    "version": 3
   },
   "file_extension": ".py",
   "mimetype": "text/x-python",
   "name": "python",
   "nbconvert_exporter": "python",
   "pygments_lexer": "ipython3",
   "version": "3.8.8"
  }
 },
 "nbformat": 4,
 "nbformat_minor": 5
}
