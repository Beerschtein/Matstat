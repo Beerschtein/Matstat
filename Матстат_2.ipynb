{
 "cells": [
  {
   "cell_type": "code",
   "execution_count": 102,
   "id": "bf0665fa",
   "metadata": {},
   "outputs": [],
   "source": [
    "import numpy as np\n",
    "from math import factorial"
   ]
  },
  {
   "cell_type": "code",
   "execution_count": 103,
   "id": "b1329d9f",
   "metadata": {},
   "outputs": [],
   "source": [
    "def combinations(n, k):\n",
    "    return int(factorial(n) / (factorial(k) * factorial(n - k)))"
   ]
  },
  {
   "cell_type": "code",
   "execution_count": 104,
   "id": "b27d0a4a",
   "metadata": {},
   "outputs": [],
   "source": [
    "# Задание-1\n",
    "# Вероятность того, что стрелок попадет в мишень, выстрелив один раз, равна 0.8. \n",
    "# Стрелок выстрелил 100 раз. Найдите вероятность того, что стрелок попадет в цель ровно 85 раз."
   ]
  },
  {
   "cell_type": "code",
   "execution_count": 105,
   "id": "6042089a",
   "metadata": {},
   "outputs": [],
   "source": [
    "# Решение: для нахождения вероятности Х воспользууемся формулой Бернулли для биномиального распределения.\n",
    "# Число испытаний (выстрелов) n=100, количество попаданий (исходов) к=85, вероятность события p=0.8"
   ]
  },
  {
   "cell_type": "code",
   "execution_count": 106,
   "id": "a22a7c0a",
   "metadata": {},
   "outputs": [
    {
     "data": {
      "text/plain": [
       "0.048061793700746355"
      ]
     },
     "execution_count": 106,
     "metadata": {},
     "output_type": "execute_result"
    }
   ],
   "source": [
    "n = 100\n",
    "k = 85\n",
    "p = 0.8\n",
    "q = 1 - p\n",
    "X = combinations(n, k) * (p ** k) * q ** (n - k)\n",
    "X"
   ]
  },
  {
   "cell_type": "code",
   "execution_count": 107,
   "id": "827fae39",
   "metadata": {},
   "outputs": [],
   "source": [
    "# Ответ: вероятность, что стрелок 85 раз попадет в цель равна 0.0481."
   ]
  },
  {
   "cell_type": "code",
   "execution_count": null,
   "id": "d7a8208d",
   "metadata": {},
   "outputs": [],
   "source": []
  },
  {
   "cell_type": "code",
   "execution_count": 108,
   "id": "1507ad28",
   "metadata": {},
   "outputs": [],
   "source": [
    "# Задание-2\n",
    "# Вероятность того, что лампочка перегорит в течение первого дня эксплуатации, равна 0.0004. \n",
    "# В жилом комплексе после ремонта в один день включили 5000 новых лампочек. \n",
    "# а) Какова вероятность, что ни одна из них не перегорит в первый день? \n",
    "# б) Какова вероятность, что перегорят ровно две?"
   ]
  },
  {
   "cell_type": "code",
   "execution_count": 109,
   "id": "927cbf0d",
   "metadata": {},
   "outputs": [],
   "source": [
    "# Решение: так как вероятность события очень мала р=0.0004, \n",
    "# а количество испытаний (лампочек) велико n=5000, для нахождения вероятности Х \n",
    "# исходов событий m применим формулу Пуассона."
   ]
  },
  {
   "cell_type": "code",
   "execution_count": 110,
   "id": "8cb035fa",
   "metadata": {},
   "outputs": [
    {
     "data": {
      "text/plain": [
       "0.1353352832366127"
      ]
     },
     "execution_count": 110,
     "metadata": {},
     "output_type": "execute_result"
    }
   ],
   "source": [
    "# Вариант а) - не перегорит ни одна, m=0:\n",
    "n = 5000\n",
    "m = 0\n",
    "p = 0.0004\n",
    "lambda_ = n * p\n",
    "\n",
    "X = (lambda_**m / np.math.factorial(m)) * np.exp(-lambda_)\n",
    "X"
   ]
  },
  {
   "cell_type": "code",
   "execution_count": 111,
   "id": "e9b5f6f3",
   "metadata": {},
   "outputs": [],
   "source": [
    "# Ответ: вероятность, что в первый день не перегорит ни одна лампочка равна 0.1353."
   ]
  },
  {
   "cell_type": "code",
   "execution_count": 112,
   "id": "da67e62b",
   "metadata": {},
   "outputs": [
    {
     "data": {
      "text/plain": [
       "0.2706705664732254"
      ]
     },
     "execution_count": 112,
     "metadata": {},
     "output_type": "execute_result"
    }
   ],
   "source": [
    "# Вариант б) - перегорят ровно две, m=2:\n",
    "n = 5000\n",
    "m = 2\n",
    "p = 0.0004\n",
    "lambda_ = n * p\n",
    "\n",
    "X = (lambda_**m / np.math.factorial(m)) * np.exp(-lambda_)\n",
    "X"
   ]
  },
  {
   "cell_type": "code",
   "execution_count": 113,
   "id": "4414272f",
   "metadata": {},
   "outputs": [],
   "source": [
    "# Ответ: вероятность, что в первый день перегорят две лампочки равна 0.2707."
   ]
  },
  {
   "cell_type": "code",
   "execution_count": null,
   "id": "cea4887b",
   "metadata": {},
   "outputs": [],
   "source": []
  },
  {
   "cell_type": "code",
   "execution_count": 114,
   "id": "e510efad",
   "metadata": {},
   "outputs": [],
   "source": [
    "# Задание-3\n",
    "# Монету подбросили 144 раза. Какова вероятность, что орел выпадет ровно 70 раз?"
   ]
  },
  {
   "cell_type": "code",
   "execution_count": 115,
   "id": "f0751b28",
   "metadata": {},
   "outputs": [],
   "source": [
    "# Решение: для нахождения вероятности Х воспользууемся формулой Бернулли для биномиального распределения.\n",
    "# Число испытаний n=144, количество благоприятных исходов к=70, вероятность события p=1/2."
   ]
  },
  {
   "cell_type": "code",
   "execution_count": 116,
   "id": "10cdd4a0",
   "metadata": {},
   "outputs": [
    {
     "data": {
      "text/plain": [
       "0.06281178035144776"
      ]
     },
     "execution_count": 116,
     "metadata": {},
     "output_type": "execute_result"
    }
   ],
   "source": [
    "n = 144\n",
    "k = 70\n",
    "p = 1/2\n",
    "q = 1 - p\n",
    "X = combinations(n, k) * (p ** k) * q ** (n - k)\n",
    "X"
   ]
  },
  {
   "cell_type": "code",
   "execution_count": 117,
   "id": "544b244e",
   "metadata": {},
   "outputs": [],
   "source": [
    "# Ответ: вероятность 0.0628."
   ]
  },
  {
   "cell_type": "code",
   "execution_count": null,
   "id": "c9a1732c",
   "metadata": {},
   "outputs": [],
   "source": []
  },
  {
   "cell_type": "code",
   "execution_count": 118,
   "id": "dc9b1af2",
   "metadata": {},
   "outputs": [],
   "source": [
    "# Задание-4\n",
    "# В первом ящике находится 10 мячей, из которых 7 - белые. \n",
    "# Во втором ящике - 11 мячей, из которых 9 белых. \n",
    "# Из каждого ящика вытаскивают случайным образом по два мяча. \n",
    "# а) Какова вероятность того, что все мячи белые? \n",
    "# б) Какова вероятность того, что ровно два мяча белые? \n",
    "# в) Какова вероятность того, что хотя бы один мяч белый?"
   ]
  },
  {
   "cell_type": "code",
   "execution_count": 119,
   "id": "7af9abff",
   "metadata": {},
   "outputs": [],
   "source": [
    "# Решение вариант а) - здесь два независимых события.\n",
    "# Искомая вероятность находится по формуле Р(АВ) = Р(А) х Р(В).\n",
    "# Р(А) и Р(В) - это отношение благоприятных исходов ко всем возможным исходам в своей группе.\n",
    "# Количество благоприятных исходов для каждой корзины - это количество комбинаций двух белых мячей\n",
    "# из всего количества белых мячей, находящихся в этой корзине."
   ]
  },
  {
   "cell_type": "code",
   "execution_count": 120,
   "id": "893ddd94",
   "metadata": {},
   "outputs": [
    {
     "data": {
      "text/plain": [
       "21"
      ]
     },
     "execution_count": 120,
     "metadata": {},
     "output_type": "execute_result"
    }
   ],
   "source": [
    "# В корзине А 7 белых мячей.\n",
    "p_a = combinations(7, 2)\n",
    "p_a"
   ]
  },
  {
   "cell_type": "code",
   "execution_count": 121,
   "id": "e0f4190f",
   "metadata": {},
   "outputs": [
    {
     "data": {
      "text/plain": [
       "0.4666666666666667"
      ]
     },
     "execution_count": 121,
     "metadata": {},
     "output_type": "execute_result"
    }
   ],
   "source": [
    "# Найдем количество всех возможных сочетаний по два мяча в корзине\n",
    "PA = combinations(10, 2)\n",
    "# и вычислим вероятность вытаскивания двух белых мячей:\n",
    "PA = p_a / PA\n",
    "PA"
   ]
  },
  {
   "cell_type": "code",
   "execution_count": null,
   "id": "cd7a5295",
   "metadata": {},
   "outputs": [],
   "source": []
  },
  {
   "cell_type": "code",
   "execution_count": 122,
   "id": "e42a7df3",
   "metadata": {},
   "outputs": [
    {
     "data": {
      "text/plain": [
       "36"
      ]
     },
     "execution_count": 122,
     "metadata": {},
     "output_type": "execute_result"
    }
   ],
   "source": [
    "# В корзине В 9 белых мячей.\n",
    "p_b = combinations(9, 2)\n",
    "p_b"
   ]
  },
  {
   "cell_type": "code",
   "execution_count": 123,
   "id": "546ce99b",
   "metadata": {},
   "outputs": [
    {
     "data": {
      "text/plain": [
       "0.6545454545454545"
      ]
     },
     "execution_count": 123,
     "metadata": {},
     "output_type": "execute_result"
    }
   ],
   "source": [
    "# Найдем количество всех возможных сочетаний по два мяча в корзине\n",
    "PB = combinations(11, 2)\n",
    "# и вычислим вероятность вытаскивания двух белых мячей:\n",
    "PB = p_b / PB\n",
    "PB"
   ]
  },
  {
   "cell_type": "code",
   "execution_count": 124,
   "id": "dc7317ea",
   "metadata": {},
   "outputs": [
    {
     "data": {
      "text/plain": [
       "0.3054545454545455"
      ]
     },
     "execution_count": 124,
     "metadata": {},
     "output_type": "execute_result"
    }
   ],
   "source": [
    "# Теперь найдем искомую вероятность\n",
    "PAB = PA * PB\n",
    "PAB"
   ]
  },
  {
   "cell_type": "code",
   "execution_count": 125,
   "id": "3e4acfc8",
   "metadata": {},
   "outputs": [],
   "source": [
    "# Ответ вариант а) - вероятность того, что все мячи белые 0.3055."
   ]
  },
  {
   "cell_type": "code",
   "execution_count": null,
   "id": "424ef8cc",
   "metadata": {},
   "outputs": [],
   "source": []
  },
  {
   "cell_type": "code",
   "execution_count": 126,
   "id": "6cc67fff",
   "metadata": {},
   "outputs": [],
   "source": [
    "# Решение вариант б) - имеем три варианта зависимых событий:\n",
    "# Вариант-1: из первой корзины достали два белых мяча, а из второй ни одного.\n",
    "# Вариант-2: из второй корзины достали два белых мяча, а из первой ни одного.    \n",
    "# Вариант-3: из каждой корзины достали по одному белому мячу."
   ]
  },
  {
   "cell_type": "code",
   "execution_count": 127,
   "id": "200d6191",
   "metadata": {},
   "outputs": [
    {
     "data": {
      "text/plain": [
       "0.4666666666666667"
      ]
     },
     "execution_count": 127,
     "metadata": {},
     "output_type": "execute_result"
    }
   ],
   "source": [
    "# Вариант-1\n",
    "# Два белых мяча из первой корзины:\n",
    "p_a = combinations(7, 2)\n",
    "PA1 = combinations(10, 2)\n",
    "PA1 = p_a / PA1\n",
    "PA1"
   ]
  },
  {
   "cell_type": "code",
   "execution_count": 128,
   "id": "f76299e0",
   "metadata": {},
   "outputs": [
    {
     "data": {
      "text/plain": [
       "0.01818181818181818"
      ]
     },
     "execution_count": 128,
     "metadata": {},
     "output_type": "execute_result"
    }
   ],
   "source": [
    "# Ни одного белого мяча из второй корзины:\n",
    "p_b = combinations(2, 2)\n",
    "PB1 = combinations(11, 2)\n",
    "PB1 = p_b / PB1\n",
    "PB1"
   ]
  },
  {
   "cell_type": "code",
   "execution_count": 129,
   "id": "cf4e72d9",
   "metadata": {},
   "outputs": [
    {
     "data": {
      "text/plain": [
       "0.008484848484848484"
      ]
     },
     "execution_count": 129,
     "metadata": {},
     "output_type": "execute_result"
    }
   ],
   "source": [
    "PAB1 = PA1 * PB1\n",
    "PAB1"
   ]
  },
  {
   "cell_type": "code",
   "execution_count": 130,
   "id": "b772c650",
   "metadata": {},
   "outputs": [],
   "source": [
    "# Вариант-1 - вероятность 0.0085."
   ]
  },
  {
   "cell_type": "code",
   "execution_count": 131,
   "id": "52974937",
   "metadata": {},
   "outputs": [
    {
     "data": {
      "text/plain": [
       "0.6545454545454545"
      ]
     },
     "execution_count": 131,
     "metadata": {},
     "output_type": "execute_result"
    }
   ],
   "source": [
    "# Вариант-2\n",
    "# Два белых мяча из второй корзины:\n",
    "p_b = combinations(9, 2)\n",
    "PB2 = combinations(11, 2)\n",
    "PB2 = p_b / PB2\n",
    "PB2"
   ]
  },
  {
   "cell_type": "code",
   "execution_count": 132,
   "id": "7c51b7df",
   "metadata": {},
   "outputs": [
    {
     "data": {
      "text/plain": [
       "0.06666666666666667"
      ]
     },
     "execution_count": 132,
     "metadata": {},
     "output_type": "execute_result"
    }
   ],
   "source": [
    "# Ни одного белого мяча из первой корзины:\n",
    "p_a = combinations(3, 2)\n",
    "PA2 = combinations(10, 2)\n",
    "PA2 = p_a / PA2\n",
    "PA2"
   ]
  },
  {
   "cell_type": "code",
   "execution_count": 133,
   "id": "d5b67e3a",
   "metadata": {},
   "outputs": [
    {
     "data": {
      "text/plain": [
       "0.04363636363636363"
      ]
     },
     "execution_count": 133,
     "metadata": {},
     "output_type": "execute_result"
    }
   ],
   "source": [
    "PAB2 = PA2 * PB2\n",
    "PAB2"
   ]
  },
  {
   "cell_type": "code",
   "execution_count": 134,
   "id": "5f94796f",
   "metadata": {},
   "outputs": [],
   "source": [
    "# Вариант-2 - вероятность 0.0436."
   ]
  },
  {
   "cell_type": "code",
   "execution_count": 135,
   "id": "c8c04b37",
   "metadata": {},
   "outputs": [],
   "source": [
    "# Вариант-3\n",
    "# Из каждой корзины достали по одному белому мячу:"
   ]
  },
  {
   "cell_type": "code",
   "execution_count": 136,
   "id": "caf51394",
   "metadata": {},
   "outputs": [
    {
     "data": {
      "text/plain": [
       "0.4666666666666667"
      ]
     },
     "execution_count": 136,
     "metadata": {},
     "output_type": "execute_result"
    }
   ],
   "source": [
    "# Количесвтом всех благоприятных исходов будет произведение количества всех вариантов \n",
    "# одного белого мяча из всех белых на один небелый из всех небелых в первой корзине:\n",
    "p_a = (combinations(7, 1) * combinations(3, 1))\n",
    "PA3 = combinations(10, 2)\n",
    "PA3 = p_a / PA3\n",
    "PA3"
   ]
  },
  {
   "cell_type": "code",
   "execution_count": 137,
   "id": "668c242f",
   "metadata": {},
   "outputs": [
    {
     "data": {
      "text/plain": [
       "0.32727272727272727"
      ]
     },
     "execution_count": 137,
     "metadata": {},
     "output_type": "execute_result"
    }
   ],
   "source": [
    "# Количесвтом всех благоприятных исходов будет произведение количества всех вариантов \n",
    "# одного белого мяча из всех белых на один небелый из всех небелых во второй корзине:\n",
    "p_b = (combinations(9, 1) * combinations(2, 1))\n",
    "PB3 = combinations(11, 2)\n",
    "PB3= p_b / PB3\n",
    "PB3"
   ]
  },
  {
   "cell_type": "code",
   "execution_count": 138,
   "id": "af268bf1",
   "metadata": {},
   "outputs": [
    {
     "data": {
      "text/plain": [
       "0.15272727272727274"
      ]
     },
     "execution_count": 138,
     "metadata": {},
     "output_type": "execute_result"
    }
   ],
   "source": [
    "PAB3 = PA3 * PB3\n",
    "PAB3"
   ]
  },
  {
   "cell_type": "code",
   "execution_count": 139,
   "id": "a84830ce",
   "metadata": {},
   "outputs": [
    {
     "data": {
      "text/plain": [
       "5.654695717505634e-05"
      ]
     },
     "execution_count": 139,
     "metadata": {},
     "output_type": "execute_result"
    }
   ],
   "source": [
    "# Найдем искоммый результат:\n",
    "PAB = PAB1 * PAB2 * PAB3\n",
    "PAB"
   ]
  },
  {
   "cell_type": "code",
   "execution_count": 140,
   "id": "57e63533",
   "metadata": {},
   "outputs": [],
   "source": [
    "# Ответ: вероятность, что ровно два мяча белые равна 5.654695717505634e-05 или 0.0000565."
   ]
  },
  {
   "cell_type": "code",
   "execution_count": 141,
   "id": "6fd34a51",
   "metadata": {},
   "outputs": [],
   "source": [
    "# Решение вариант в) - имеем 4 варианта возможных событий:\n",
    "# Вариант-1 - 1 белый мяч;\n",
    "# Вариант-2 - 2 белых мяча;\n",
    "# Вариант-3 - 3 белых мяча;\n",
    "# Вариант-4 - 4 белых мяча;\n",
    "# Искомый результат - сумма всех вариантов."
   ]
  },
  {
   "cell_type": "code",
   "execution_count": 142,
   "id": "de62e3fb",
   "metadata": {},
   "outputs": [],
   "source": [
    "# Вероятности вариант-2 и вариант-4 нами уже вычислены, найдем вариант-1:"
   ]
  },
  {
   "cell_type": "code",
   "execution_count": 143,
   "id": "d4d5cbb2",
   "metadata": {},
   "outputs": [],
   "source": [
    "# Вариант-1\n",
    "# Это сумма вероятностей \"белый мяч из корзины 1 и все небелые мячи из корзины 2\"\n",
    "# плюс \"белый мяч из корзины 2 и все небелые мячи из корзины 1\""
   ]
  },
  {
   "cell_type": "code",
   "execution_count": 144,
   "id": "528fb652",
   "metadata": {},
   "outputs": [
    {
     "data": {
      "text/plain": [
       "0.008484848484848484"
      ]
     },
     "execution_count": 144,
     "metadata": {},
     "output_type": "execute_result"
    }
   ],
   "source": [
    "X1 = PA3 * PB1\n",
    "X1"
   ]
  },
  {
   "cell_type": "code",
   "execution_count": 145,
   "id": "4d17b8db",
   "metadata": {},
   "outputs": [
    {
     "data": {
      "text/plain": [
       "0.021818181818181816"
      ]
     },
     "execution_count": 145,
     "metadata": {},
     "output_type": "execute_result"
    }
   ],
   "source": [
    "X2 = PB3 * PA2\n",
    "X2"
   ]
  },
  {
   "cell_type": "code",
   "execution_count": 146,
   "id": "86c5bc1e",
   "metadata": {},
   "outputs": [
    {
     "data": {
      "text/plain": [
       "0.0303030303030303"
      ]
     },
     "execution_count": 146,
     "metadata": {},
     "output_type": "execute_result"
    }
   ],
   "source": [
    "X = X1 + X2\n",
    "X"
   ]
  },
  {
   "cell_type": "code",
   "execution_count": 147,
   "id": "706e0867",
   "metadata": {},
   "outputs": [],
   "source": [
    "# Вероятность вариант1 равна 0.0303030303030303."
   ]
  },
  {
   "cell_type": "code",
   "execution_count": 148,
   "id": "6149d37c",
   "metadata": {},
   "outputs": [],
   "source": [
    "# Найдем вариант-3:\n",
    "# Это сумма вероятностей 1+2 и 2+1, когда из одной корзины достают один белый мяч,\n",
    "# а из другой два белых мяча."
   ]
  },
  {
   "cell_type": "code",
   "execution_count": 149,
   "id": "f6e29dc9",
   "metadata": {},
   "outputs": [
    {
     "data": {
      "text/plain": [
       "0.3054545454545455"
      ]
     },
     "execution_count": 149,
     "metadata": {},
     "output_type": "execute_result"
    }
   ],
   "source": [
    "Y1 = PA3 * PB2\n",
    "Y1"
   ]
  },
  {
   "cell_type": "code",
   "execution_count": 150,
   "id": "73c8ddb2",
   "metadata": {},
   "outputs": [
    {
     "data": {
      "text/plain": [
       "0.15272727272727274"
      ]
     },
     "execution_count": 150,
     "metadata": {},
     "output_type": "execute_result"
    }
   ],
   "source": [
    "Y2 = PA1 * PB3\n",
    "Y2"
   ]
  },
  {
   "cell_type": "code",
   "execution_count": 151,
   "id": "9a1cd826",
   "metadata": {},
   "outputs": [
    {
     "data": {
      "text/plain": [
       "0.45818181818181825"
      ]
     },
     "execution_count": 151,
     "metadata": {},
     "output_type": "execute_result"
    }
   ],
   "source": [
    "Y = Y1 + Y2\n",
    "Y"
   ]
  },
  {
   "cell_type": "code",
   "execution_count": 152,
   "id": "ab22941b",
   "metadata": {},
   "outputs": [
    {
     "data": {
      "text/plain": [
       "0.7940413484848485"
      ]
     },
     "execution_count": 152,
     "metadata": {},
     "output_type": "execute_result"
    }
   ],
   "source": [
    "# Сложим вероятности всех четырех вариантов и получим искомый результат:\n",
    "res = X + Y + 0.3055 + 0.0000565\n",
    "res"
   ]
  },
  {
   "cell_type": "code",
   "execution_count": 153,
   "id": "f64d4852",
   "metadata": {},
   "outputs": [],
   "source": [
    "# Ответ на вопрос в) задания 4: вероятность что хотя бы один мяч будет белый равна 0.794."
   ]
  },
  {
   "cell_type": "code",
   "execution_count": null,
   "id": "9bc34ff0",
   "metadata": {},
   "outputs": [],
   "source": []
  }
 ],
 "metadata": {
  "kernelspec": {
   "display_name": "Python 3",
   "language": "python",
   "name": "python3"
  },
  "language_info": {
   "codemirror_mode": {
    "name": "ipython",
    "version": 3
   },
   "file_extension": ".py",
   "mimetype": "text/x-python",
   "name": "python",
   "nbconvert_exporter": "python",
   "pygments_lexer": "ipython3",
   "version": "3.8.8"
  }
 },
 "nbformat": 4,
 "nbformat_minor": 5
}
