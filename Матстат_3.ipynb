{
 "cells": [
  {
   "cell_type": "code",
   "execution_count": 88,
   "id": "c406e623",
   "metadata": {},
   "outputs": [],
   "source": [
    "import numpy as np\n",
    "import pandas as pd\n",
    "from math import factorial\n",
    "import warnings\n",
    "warnings.filterwarnings('ignore')"
   ]
  },
  {
   "cell_type": "markdown",
   "id": "b65673ee",
   "metadata": {},
   "source": [
    "#### Задание-1"
   ]
  },
  {
   "cell_type": "code",
   "execution_count": 89,
   "id": "c33386b5",
   "metadata": {},
   "outputs": [],
   "source": [
    "# Даны значения зарплат из выборки выпускников: \n",
    "# 100, 80, 75, 77, 89, 33, 45, 25, 65, 17, 30, 24, 57, 55, 70, 75, 65, 84, 90, 150. \n",
    "# Посчитать (желательно без использования статистических методов наподобие std, var, mean): \n",
    "# а) среднее арифметическое, \n",
    "# б) среднее квадратичное отклонение, \n",
    "# в) смещенную\n",
    "# г) несмещенную оценки дисперсий для данной выборки."
   ]
  },
  {
   "cell_type": "code",
   "execution_count": 90,
   "id": "760c999b",
   "metadata": {},
   "outputs": [],
   "source": [
    "nums = [100, 80, 75, 77, 89, 33, 45, 25, 65, 17, 30, 24, 57, 55, 70, 75, 65, 84, 90, 150]"
   ]
  },
  {
   "cell_type": "code",
   "execution_count": 91,
   "id": "12458e11",
   "metadata": {},
   "outputs": [
    {
     "data": {
      "text/plain": [
       "array([100,  80,  75,  77,  89,  33,  45,  25,  65,  17,  30,  24,  57,\n",
       "        55,  70,  75,  65,  84,  90, 150])"
      ]
     },
     "execution_count": 91,
     "metadata": {},
     "output_type": "execute_result"
    }
   ],
   "source": [
    "salary = np.array([100, 80, 75, 77, 89, 33, 45, 25, 65, 17, 30, 24, 57, 55, 70, 75, 65, 84, 90, 150])\n",
    "salary"
   ]
  },
  {
   "cell_type": "code",
   "execution_count": 92,
   "id": "6a0dfdce",
   "metadata": {},
   "outputs": [
    {
     "data": {
      "text/plain": [
       "65.3"
      ]
     },
     "execution_count": 92,
     "metadata": {},
     "output_type": "execute_result"
    }
   ],
   "source": [
    "# а) Найдем среднее арифметическое: сумму все элементов множества поделим на количество элементов:\n",
    "m = salary.sum() / len(salary)\n",
    "m"
   ]
  },
  {
   "cell_type": "code",
   "execution_count": 93,
   "id": "f96a2141",
   "metadata": {},
   "outputs": [
    {
     "data": {
      "text/plain": [
       "0    65.3\n",
       "dtype: float64"
      ]
     },
     "execution_count": 93,
     "metadata": {},
     "output_type": "execute_result"
    }
   ],
   "source": [
    "m = pd.DataFrame(salary)\n",
    "m.mean()"
   ]
  },
  {
   "cell_type": "code",
   "execution_count": 94,
   "id": "0b031010",
   "metadata": {},
   "outputs": [],
   "source": [
    "# Ответ а) среднее арифметическое от из зарплат равно 65.3."
   ]
  },
  {
   "cell_type": "code",
   "execution_count": 95,
   "id": "40047eca",
   "metadata": {},
   "outputs": [
    {
     "name": "stdout",
     "output_type": "stream",
     "text": [
      "950.11\n"
     ]
    }
   ],
   "source": [
    "# б) Найдем среднее квадратичное отклонение:\n",
    "n = len(salary)\n",
    "m = 65.3\n",
    "sum_num = 0\n",
    "for num in nums:\n",
    "  sum_num += (num - m)**2\n",
    "print(sum_num / n)"
   ]
  },
  {
   "cell_type": "code",
   "execution_count": 96,
   "id": "1798bf5b",
   "metadata": {},
   "outputs": [
    {
     "data": {
      "text/plain": [
       "30.823854398825596"
      ]
     },
     "execution_count": 96,
     "metadata": {},
     "output_type": "execute_result"
    }
   ],
   "source": [
    "s = np.sqrt(sum_num / n)\n",
    "s"
   ]
  },
  {
   "cell_type": "code",
   "execution_count": 97,
   "id": "42de5865",
   "metadata": {},
   "outputs": [
    {
     "data": {
      "text/plain": [
       "0    30.823854\n",
       "dtype: float64"
      ]
     },
     "execution_count": 97,
     "metadata": {},
     "output_type": "execute_result"
    }
   ],
   "source": [
    "# Проверим расчеты с помощью функции std:\n",
    "salary_df = pd.DataFrame(salary)\n",
    "salary_df.std(ddof=0)"
   ]
  },
  {
   "cell_type": "code",
   "execution_count": 98,
   "id": "d02c507d",
   "metadata": {},
   "outputs": [],
   "source": [
    "# Ответ б): среднее квадратичное отклонение равно 30.823854."
   ]
  },
  {
   "cell_type": "code",
   "execution_count": null,
   "id": "490acec6",
   "metadata": {},
   "outputs": [],
   "source": []
  },
  {
   "cell_type": "code",
   "execution_count": 99,
   "id": "48979e74",
   "metadata": {},
   "outputs": [
    {
     "name": "stdout",
     "output_type": "stream",
     "text": [
      "950.11\n"
     ]
    }
   ],
   "source": [
    "# в) Найдем смещенную оценку дисперсии:\n",
    "n = len(salary)\n",
    "m = 65.3\n",
    "sum_num = 0\n",
    "for num in nums:\n",
    "  sum_num += (num - m)**2\n",
    "print(sum_num / n)"
   ]
  },
  {
   "cell_type": "code",
   "execution_count": 100,
   "id": "a6ccfc2c",
   "metadata": {},
   "outputs": [
    {
     "data": {
      "text/plain": [
       "0    950.11\n",
       "dtype: float64"
      ]
     },
     "execution_count": 100,
     "metadata": {},
     "output_type": "execute_result"
    }
   ],
   "source": [
    "salary_df = pd.DataFrame(salary)\n",
    "salary_df.var(ddof=0)"
   ]
  },
  {
   "cell_type": "code",
   "execution_count": 101,
   "id": "d0ff0bba",
   "metadata": {},
   "outputs": [],
   "source": [
    "# Ответ в): смещенная оценкка дисперсии равна 950.11."
   ]
  },
  {
   "cell_type": "code",
   "execution_count": null,
   "id": "dad1da43",
   "metadata": {},
   "outputs": [],
   "source": []
  },
  {
   "cell_type": "code",
   "execution_count": 102,
   "id": "ace98648",
   "metadata": {},
   "outputs": [
    {
     "name": "stdout",
     "output_type": "stream",
     "text": [
      "1000.1157894736842\n"
     ]
    }
   ],
   "source": [
    "# г) Найдем несмещенную оценку дисперсии (n-1):\n",
    "n = len(salary) - 1\n",
    "m = 65.3\n",
    "sum_num = 0\n",
    "for num in nums:\n",
    "  sum_num += (num - m)**2\n",
    "print(sum_num / n)"
   ]
  },
  {
   "cell_type": "code",
   "execution_count": 103,
   "id": "6e072c86",
   "metadata": {},
   "outputs": [
    {
     "data": {
      "text/plain": [
       "0    1000.115789\n",
       "dtype: float64"
      ]
     },
     "execution_count": 103,
     "metadata": {},
     "output_type": "execute_result"
    }
   ],
   "source": [
    "salary_df.var(ddof=1)"
   ]
  },
  {
   "cell_type": "code",
   "execution_count": 104,
   "id": "6398f33a",
   "metadata": {},
   "outputs": [],
   "source": [
    "# Ответ г): несмещенная оценка дисперсии равна 1000.115789."
   ]
  },
  {
   "cell_type": "markdown",
   "id": "855f4816",
   "metadata": {},
   "source": [
    "#### Задание-2"
   ]
  },
  {
   "cell_type": "code",
   "execution_count": 105,
   "id": "bba1e155",
   "metadata": {},
   "outputs": [],
   "source": [
    "# В первом ящике находится 8 мячей, из которых 5 - белые. \n",
    "# Во втором ящике - 12 мячей, из которых 5 белых. \n",
    "# Из первого ящика вытаскивают случайным образом два мяча, из второго - 4. \n",
    "# Какова вероятность того, что 3 мяча белые?"
   ]
  },
  {
   "cell_type": "code",
   "execution_count": 106,
   "id": "9081aa12",
   "metadata": {},
   "outputs": [],
   "source": [
    "# Решение: возможны три варианта событий:\n",
    "# 1) 1-й ящик 0 белых, 2-й ящик 3 белых мяча. \n",
    "# 2) 1-й ящик 1 белый, 2-й ящик 2 белых мяча.\n",
    "# 3) 1-й ящик 2 белых, 2-й ящик 1 белых мяча.\n",
    "# Искомая вероятность равна сумме вероятностей всех трех вариантов."
   ]
  },
  {
   "cell_type": "code",
   "execution_count": 107,
   "id": "0cfdf621",
   "metadata": {},
   "outputs": [],
   "source": [
    "def combinations(n, k):\n",
    "    return int(factorial(n) / (factorial(k) * factorial(n - k)))"
   ]
  },
  {
   "cell_type": "code",
   "execution_count": 108,
   "id": "4df82a14",
   "metadata": {},
   "outputs": [
    {
     "data": {
      "text/plain": [
       "0.005050505050505049"
      ]
     },
     "execution_count": 108,
     "metadata": {},
     "output_type": "execute_result"
    }
   ],
   "source": [
    "# Вариант-1\n",
    "v1 = combinations(5, 0) / combinations(8, 2) * combinations(5, 3) * combinations(7, 1) / combinations(12, 4)\n",
    "v1"
   ]
  },
  {
   "cell_type": "code",
   "execution_count": 109,
   "id": "328cf981",
   "metadata": {},
   "outputs": [
    {
     "data": {
      "text/plain": [
       "0.22727272727272724"
      ]
     },
     "execution_count": 109,
     "metadata": {},
     "output_type": "execute_result"
    }
   ],
   "source": [
    "# Вариант-2\n",
    "v2 = combinations(5, 1) * combinations(3, 1) / combinations(8, 2) * combinations(5, 2) * combinations(7, 2) / combinations(12, 4)\n",
    "v2"
   ]
  },
  {
   "cell_type": "code",
   "execution_count": 110,
   "id": "ef477ff7",
   "metadata": {},
   "outputs": [
    {
     "data": {
      "text/plain": [
       "0.12626262626262627"
      ]
     },
     "execution_count": 110,
     "metadata": {},
     "output_type": "execute_result"
    }
   ],
   "source": [
    "# Вариант-3\n",
    "v3 = combinations(5, 2) / combinations(8, 2) * combinations(5, 1) * combinations(7, 3) / combinations(12, 4)\n",
    "v3"
   ]
  },
  {
   "cell_type": "code",
   "execution_count": 111,
   "id": "3ce283af",
   "metadata": {},
   "outputs": [
    {
     "data": {
      "text/plain": [
       "0.35858585858585856"
      ]
     },
     "execution_count": 111,
     "metadata": {},
     "output_type": "execute_result"
    }
   ],
   "source": [
    "p = v1 + v2 + v3\n",
    "p"
   ]
  },
  {
   "cell_type": "code",
   "execution_count": 112,
   "id": "8e37ea83",
   "metadata": {},
   "outputs": [],
   "source": [
    "# Ответ: вероятность того, чо три мяча будут белые равна 0.35858585858585856."
   ]
  },
  {
   "cell_type": "markdown",
   "id": "abc2794d",
   "metadata": {},
   "source": [
    "#### Задание-3"
   ]
  },
  {
   "cell_type": "code",
   "execution_count": 113,
   "id": "0f3596b0",
   "metadata": {},
   "outputs": [],
   "source": [
    "# На соревновании по биатлону один из трех спортсменов стреляет и попадает в мишень. \n",
    "# Вероятность попадания для первого спортсмена равна 0.9, для второго — 0.8, для третьего — 0.6. \n",
    "# Найти вероятность того, что выстрел произведен: \n",
    "#     a). первым спортсменом (p1)\n",
    "#     б). вторым спортсменом (p2)\n",
    "#     в). третьим спортсменом (p3)"
   ]
  },
  {
   "cell_type": "code",
   "execution_count": 114,
   "id": "9da11d69",
   "metadata": {},
   "outputs": [
    {
     "data": {
      "text/plain": [
       "0.7666666666666667"
      ]
     },
     "execution_count": 114,
     "metadata": {},
     "output_type": "execute_result"
    }
   ],
   "source": [
    "# Решение: применим формулу Байеса (формулу полной вероятности).\n",
    "p_a = 1 / 3 * (0.9 + 0.8 + 0.6)\n",
    "p_a"
   ]
  },
  {
   "cell_type": "code",
   "execution_count": 115,
   "id": "ccd59226",
   "metadata": {},
   "outputs": [
    {
     "data": {
      "text/plain": [
       "0.3913043478260869"
      ]
     },
     "execution_count": 115,
     "metadata": {},
     "output_type": "execute_result"
    }
   ],
   "source": [
    "# а) Вероятность, что стрелял 1-й спортсмен:\n",
    "p1 = (1 / 3 * 0.9) / p_a\n",
    "p1"
   ]
  },
  {
   "cell_type": "code",
   "execution_count": 116,
   "id": "370be97a",
   "metadata": {},
   "outputs": [
    {
     "data": {
      "text/plain": [
       "0.34782608695652173"
      ]
     },
     "execution_count": 116,
     "metadata": {},
     "output_type": "execute_result"
    }
   ],
   "source": [
    "# б) Вероятность, что стрелял 2-й спортсмен:\n",
    "p2 = (1 / 3 * 0.8) / p_a\n",
    "p2"
   ]
  },
  {
   "cell_type": "code",
   "execution_count": 117,
   "id": "8cf2351b",
   "metadata": {},
   "outputs": [
    {
     "data": {
      "text/plain": [
       "0.26086956521739124"
      ]
     },
     "execution_count": 117,
     "metadata": {},
     "output_type": "execute_result"
    }
   ],
   "source": [
    "# в) Вероятность, что стрелял 3-й спортсмен:\n",
    "p3 = (1 / 3 * 0.6) / p_a\n",
    "p3"
   ]
  },
  {
   "cell_type": "code",
   "execution_count": 118,
   "id": "d50d5a71",
   "metadata": {},
   "outputs": [],
   "source": [
    "# Ответ: вероятность, что стрелял 1-й спортсмен - 0.39, 2-й спортсмен - 0.35, 3-й спортсмен - 0.26."
   ]
  },
  {
   "cell_type": "markdown",
   "id": "0f668e09",
   "metadata": {},
   "source": [
    "#### Задание-4\n"
   ]
  },
  {
   "cell_type": "code",
   "execution_count": 119,
   "id": "a5e311b8",
   "metadata": {},
   "outputs": [],
   "source": [
    "# В университет на факультеты A и B поступило равное количество студентов, \n",
    "# а на факультет C студентов поступило столько же, сколько на A и B вместе. \n",
    "# Вероятность того, что студент факультета A сдаст первую сессию, равна 0.8. \n",
    "# Для студента факультета B эта вероятность равна 0.7, а для студента факультета C - 0.9. \n",
    "# Студент сдал первую сессию. \n",
    "# Какова вероятность, что он учится: \n",
    "#     a). на факультете A (pA)\n",
    "#     б). на факультете B (pB)\n",
    "#     в). на факультете C (pC)?"
   ]
  },
  {
   "cell_type": "code",
   "execution_count": 120,
   "id": "f748beb0",
   "metadata": {},
   "outputs": [
    {
     "data": {
      "text/plain": [
       "0.825"
      ]
     },
     "execution_count": 120,
     "metadata": {},
     "output_type": "execute_result"
    }
   ],
   "source": [
    "# Решение: из условия задачи следует, что вероятнось того, что студент  с факультета А=1/4, \n",
    "# что с факультета В=1/4 и с факультета С=1/2\n",
    "p_a = 1 / 4 * (0.8 + 0.7) + 1 / 2 * 0.9\n",
    "p_a"
   ]
  },
  {
   "cell_type": "code",
   "execution_count": 121,
   "id": "d94fa6bf",
   "metadata": {},
   "outputs": [
    {
     "data": {
      "text/plain": [
       "0.24242424242424246"
      ]
     },
     "execution_count": 121,
     "metadata": {},
     "output_type": "execute_result"
    }
   ],
   "source": [
    "# а) вероятность, что студент с факультета А\n",
    "pA = (1 / 4 * 0.8) / p_a\n",
    "pA"
   ]
  },
  {
   "cell_type": "code",
   "execution_count": 122,
   "id": "942b1efe",
   "metadata": {},
   "outputs": [
    {
     "data": {
      "text/plain": [
       "0.21212121212121213"
      ]
     },
     "execution_count": 122,
     "metadata": {},
     "output_type": "execute_result"
    }
   ],
   "source": [
    "# б) вероятность, что студент с факультета В\n",
    "pB = (1 / 4 * 0.7) / p_a\n",
    "pB"
   ]
  },
  {
   "cell_type": "code",
   "execution_count": 123,
   "id": "86f4c6e6",
   "metadata": {},
   "outputs": [
    {
     "data": {
      "text/plain": [
       "0.5454545454545455"
      ]
     },
     "execution_count": 123,
     "metadata": {},
     "output_type": "execute_result"
    }
   ],
   "source": [
    "# в) вероятность, что студент с факультета С\n",
    "pA = (1 / 2 * 0.9) / p_a\n",
    "pA"
   ]
  },
  {
   "cell_type": "code",
   "execution_count": 124,
   "id": "9e8c5654",
   "metadata": {},
   "outputs": [],
   "source": [
    "# Ответ: вероятность, что студент с факультета А=0.24, с факультета В=0.21, с факультета С=0.545."
   ]
  },
  {
   "cell_type": "markdown",
   "id": "1954bd48",
   "metadata": {},
   "source": [
    "#### Задание-5"
   ]
  },
  {
   "cell_type": "code",
   "execution_count": 125,
   "id": "fbd79193",
   "metadata": {},
   "outputs": [],
   "source": [
    "# Устройство состоит из трех деталей. Для первой детали вероятность выйти из строя в первый месяц равна 0.1, \n",
    "# для второй - 0.2, для третьей - 0.25. \n",
    "# Какова вероятность того, что в первый месяц выйдут из строя: \n",
    "#     а). все детали \n",
    "#     б). только две детали \n",
    "#     в). хотя бы одна деталь \n",
    "#     г). от одной до двух деталей?"
   ]
  },
  {
   "cell_type": "code",
   "execution_count": 126,
   "id": "cbb110f4",
   "metadata": {},
   "outputs": [
    {
     "data": {
      "text/plain": [
       "0.005000000000000001"
      ]
     },
     "execution_count": 126,
     "metadata": {},
     "output_type": "execute_result"
    }
   ],
   "source": [
    "# а)  Решение: вероятность исхода трех независимых событий равна произведению их вероятностей: p1*p2*p3\n",
    "p_a = 0.1*0.2*0.25\n",
    "p_a"
   ]
  },
  {
   "cell_type": "code",
   "execution_count": 127,
   "id": "e5d10421",
   "metadata": {},
   "outputs": [],
   "source": [
    "# Ответ а): вероятность выхода из строя всех деталей равна 0.005."
   ]
  },
  {
   "cell_type": "code",
   "execution_count": 128,
   "id": "b876a798",
   "metadata": {},
   "outputs": [
    {
     "data": {
      "text/plain": [
       "0.08000000000000002"
      ]
     },
     "execution_count": 128,
     "metadata": {},
     "output_type": "execute_result"
    }
   ],
   "source": [
    "# б) Решение: p1*p2*q3 + p1*q2*p3 + q1*p2*p3\n",
    "p_b = 0.1*0.2*(1-0.25) + 0.1*(1-0.2)*0.25 + (1-0.1)*0.2*0.25\n",
    "p_b"
   ]
  },
  {
   "cell_type": "code",
   "execution_count": 129,
   "id": "55d4cb83",
   "metadata": {},
   "outputs": [],
   "source": [
    "#  Ответ б): вероятность чо из строя выйдут только две детали равна 0.08."
   ]
  },
  {
   "cell_type": "code",
   "execution_count": 130,
   "id": "09d34c69",
   "metadata": {},
   "outputs": [
    {
     "data": {
      "text/plain": [
       "0.375"
      ]
     },
     "execution_count": 130,
     "metadata": {},
     "output_type": "execute_result"
    }
   ],
   "source": [
    "# в) Решение: выйдет из строя одна деталь p1*q2*q3 + q1*p2*q3 + q1*q2*p3\n",
    "p_c = 0.1*(1-0.2)*(1-0.25) + (1-0.1)*0.2*(1-0.25) + (1-0.1)*(1-0.2)*0.25\n",
    "p_c"
   ]
  },
  {
   "cell_type": "code",
   "execution_count": 131,
   "id": "e47d17ee",
   "metadata": {},
   "outputs": [
    {
     "data": {
      "text/plain": [
       "0.46"
      ]
     },
     "execution_count": 131,
     "metadata": {},
     "output_type": "execute_result"
    }
   ],
   "source": [
    "# Искомая вероятность будет суммой трех трех вариантов: а, б, в:\n",
    "p = p_a + p_b + p_c\n",
    "p"
   ]
  },
  {
   "cell_type": "code",
   "execution_count": 132,
   "id": "10e2e5ef",
   "metadata": {},
   "outputs": [],
   "source": [
    "# Ответ в): вероятность, что из строя выйдет хотябы одна деталь равна 0.46"
   ]
  },
  {
   "cell_type": "code",
   "execution_count": 133,
   "id": "e3b84130",
   "metadata": {},
   "outputs": [
    {
     "data": {
      "text/plain": [
       "0.455"
      ]
     },
     "execution_count": 133,
     "metadata": {},
     "output_type": "execute_result"
    }
   ],
   "source": [
    "# г) Решение: искомая вероятность будет суммой вероятностей вариантов: б) и в):\n",
    "p_1_2 = p_b + p_c\n",
    "p_1_2"
   ]
  },
  {
   "cell_type": "code",
   "execution_count": 134,
   "id": "7e84b431",
   "metadata": {},
   "outputs": [],
   "source": [
    "# Ответ г): вероятность, что из строя выйдет от одной до двух деталей равна 0.455."
   ]
  }
 ],
 "metadata": {
  "kernelspec": {
   "display_name": "Python 3",
   "language": "python",
   "name": "python3"
  },
  "language_info": {
   "codemirror_mode": {
    "name": "ipython",
    "version": 3
   },
   "file_extension": ".py",
   "mimetype": "text/x-python",
   "name": "python",
   "nbconvert_exporter": "python",
   "pygments_lexer": "ipython3",
   "version": "3.8.8"
  }
 },
 "nbformat": 4,
 "nbformat_minor": 5
}
