{
 "cells": [
  {
   "cell_type": "code",
   "execution_count": 2,
   "id": "7e929e65",
   "metadata": {},
   "outputs": [],
   "source": [
    "import pandas as pd\n",
    "import numpy as np\n",
    "import math"
   ]
  },
  {
   "cell_type": "markdown",
   "id": "561bd79d",
   "metadata": {},
   "source": [
    "#### Задание-1"
   ]
  },
  {
   "cell_type": "code",
   "execution_count": 3,
   "id": "0b371f74",
   "metadata": {},
   "outputs": [],
   "source": [
    "# Случайная непрерывная величина A имеет равномерное распределение на промежутке (200, 800].\n",
    "# Найдите ее среднее значение и дисперсию."
   ]
  },
  {
   "cell_type": "code",
   "execution_count": 4,
   "id": "869c149f",
   "metadata": {},
   "outputs": [
    {
     "data": {
      "text/plain": [
       "500.0"
      ]
     },
     "execution_count": 4,
     "metadata": {},
     "output_type": "execute_result"
    }
   ],
   "source": [
    "a = 200\n",
    "b = 800\n",
    "M = (a + b) / 2\n",
    "M"
   ]
  },
  {
   "cell_type": "code",
   "execution_count": 5,
   "id": "d9c5ca7a",
   "metadata": {},
   "outputs": [
    {
     "data": {
      "text/plain": [
       "30000.0"
      ]
     },
     "execution_count": 5,
     "metadata": {},
     "output_type": "execute_result"
    }
   ],
   "source": [
    "D = ((b - a) ** 2) / 12\n",
    "D"
   ]
  },
  {
   "cell_type": "markdown",
   "id": "3eaf9863",
   "metadata": {},
   "source": [
    "*Ответ: дисперсия равна 30000, а среднее значение равно 500.*"
   ]
  },
  {
   "cell_type": "markdown",
   "id": "b008d304",
   "metadata": {},
   "source": [
    "#### Задание-2"
   ]
  },
  {
   "cell_type": "code",
   "execution_count": 6,
   "id": "63d249f8",
   "metadata": {},
   "outputs": [],
   "source": [
    "# О случайной непрерывной равномерно распределенной величине B известно, что ее дисперсия равна 0.2.\n",
    "# Можно ли найти правую границу величины B и ее среднее значение зная, что левая граница равна 0.5?\n",
    "# Если да, найдите ее."
   ]
  },
  {
   "cell_type": "code",
   "execution_count": 7,
   "id": "d505d1fb",
   "metadata": {},
   "outputs": [],
   "source": [
    "# Решение: Величина В распределена на отрезхке ab, где D=0.2, a=0.5.\n",
    "# а) Найти b. \n",
    "# б) Найти M."
   ]
  },
  {
   "cell_type": "code",
   "execution_count": 8,
   "id": "b19cde5e",
   "metadata": {},
   "outputs": [],
   "source": [
    "# a):\n",
    "# D = ((b - a) ** 2) / 12\n",
    "# Подставляем в формулу значение a и получаем квадратное уравнение:\n",
    "# 0.2 = (b ** 2 - 2 * 0.5 * b + 0.5 ** 2) / 12\n",
    "# b ** 2 - b - 2.15 = 0 "
   ]
  },
  {
   "cell_type": "code",
   "execution_count": 9,
   "id": "48222926",
   "metadata": {},
   "outputs": [
    {
     "name": "stdout",
     "output_type": "stream",
     "text": [
      "Введите коэффициенты для уравнения\n",
      "ax^2 + bx + c = 0:\n",
      "Дискриминант D = 9.60\n",
      "x1 = 2.05 \n",
      "x2 = -1.05\n"
     ]
    }
   ],
   "source": [
    "print(\"Введите коэффициенты для уравнения\")\n",
    "print(\"ax^2 + bx + c = 0:\")\n",
    "# a = float(input(\"a = \"))\n",
    "# b = float(input(\"b = \"))\n",
    "# c = float(input(\"c = \"))\n",
    "\n",
    "a = 1\n",
    "b = -1\n",
    "c = -2.15\n",
    " \n",
    "discr = b ** 2 - 4 * a * c\n",
    "print(\"Дискриминант D = %.2f\" % discr)\n",
    " \n",
    "if discr > 0:\n",
    "    x1 = (-b + math.sqrt(discr)) / (2 * a)\n",
    "    x2 = (-b - math.sqrt(discr)) / (2 * a)\n",
    "    print(\"x1 = %.2f \\nx2 = %.2f\" % (x1, x2))\n",
    "elif discr == 0:\n",
    "    x = -b / (2 * a)\n",
    "    print(\"x = %.2f\" % x)\n",
    "else:\n",
    "    print(\"Корней нет\")"
   ]
  },
  {
   "cell_type": "code",
   "execution_count": 10,
   "id": "e3503bc0",
   "metadata": {},
   "outputs": [],
   "source": [
    "# Так как b по условию задачи является правой границей,\n",
    "# то b=2.05"
   ]
  },
  {
   "cell_type": "markdown",
   "id": "392414af",
   "metadata": {},
   "source": [
    "*Ответ: b примерно равно 2.05.*"
   ]
  },
  {
   "cell_type": "code",
   "execution_count": 11,
   "id": "fd9d1792",
   "metadata": {},
   "outputs": [],
   "source": [
    "# b):\n",
    "# M = (a + b) / 2"
   ]
  },
  {
   "cell_type": "code",
   "execution_count": 12,
   "id": "34fb6eea",
   "metadata": {},
   "outputs": [
    {
     "data": {
      "text/plain": [
       "1.275"
      ]
     },
     "execution_count": 12,
     "metadata": {},
     "output_type": "execute_result"
    }
   ],
   "source": [
    "a = 0.5\n",
    "b = 2.05\n",
    "M = (a + b) / 2\n",
    "M"
   ]
  },
  {
   "cell_type": "markdown",
   "id": "73c5c025",
   "metadata": {},
   "source": [
    "*Ответ: М равно 1.275 (1.2746).*"
   ]
  },
  {
   "cell_type": "markdown",
   "id": "7fc85cfc",
   "metadata": {},
   "source": [
    "#### Задание-3"
   ]
  },
  {
   "cell_type": "code",
   "execution_count": 13,
   "id": "f4a02f0a",
   "metadata": {},
   "outputs": [],
   "source": [
    "# Непрерывная случайная величина X распределена нормально и задана плотностью распределения\n",
    "# f(x) = (1 / (4 * sqrt(2*pi))) * (exp(-(x+2)**2) / 32).\n",
    "# Найдите:\n",
    "# а). M(X)\n",
    "# б). D(X)\n",
    "# в). std(X) (среднее квадратичное) "
   ]
  },
  {
   "cell_type": "code",
   "execution_count": 14,
   "id": "808a8733",
   "metadata": {},
   "outputs": [],
   "source": [
    "# Обратимся к формуле распределения плотности вероятностей непрерывной \n",
    "# случайной величины Гаусса: f(x)=(1/(sig*sqrt(2*pi)))*(exp(-(x-a)**2) / (2*(sig**2)),\n",
    "# где: a=M(X), sig**2=D(X)\n",
    "# Из условия задачи получаем:\n",
    "# а) M(X) = -2\n",
    "# б) D(X) = 16 \n",
    "# в) std(X) = 4"
   ]
  },
  {
   "cell_type": "markdown",
   "id": "f46b9dc8",
   "metadata": {},
   "source": [
    "*Ответ: М(Х)=-2, D(X)=16, std(X)=4.*"
   ]
  },
  {
   "cell_type": "markdown",
   "id": "83772602",
   "metadata": {},
   "source": [
    "#### Задание-4"
   ]
  },
  {
   "cell_type": "code",
   "execution_count": 15,
   "id": "bdb40b54",
   "metadata": {},
   "outputs": [],
   "source": [
    "# Рост взрослого населения города X имеет нормальное распределение.\n",
    "# Причем, средний рост равен 174 см, а среднее квадратичное отклонение равно 8 см.\n",
    "# Какова вероятность того, что случайным образом выбранный взрослый человек имеет рост:\n",
    "# а). больше 182 см\n",
    "# б). больше 190 см\n",
    "# в). от 166 см до 190 см\n",
    "# г). от 166 см до 182 см\n",
    "# д). от 158 см до 190 см\n",
    "# е). не выше 150 см или не ниже 190 см\n",
    "# ё). не выше 150 см или не ниже 198 см\n",
    "# ж). ниже 166 см."
   ]
  },
  {
   "cell_type": "code",
   "execution_count": 16,
   "id": "9e4833ef",
   "metadata": {},
   "outputs": [],
   "source": [
    "# Решение: чтобы найти вероятность Р необходимо обратиться к таблицам накопленного\n",
    "# нормального распределения N(Z), где Z=(X-mu)/sig.\n",
    "mu = 174\n",
    "sig = 8\n",
    "def z_h(x):\n",
    "    return ((x - mu) / sig)"
   ]
  },
  {
   "cell_type": "code",
   "execution_count": 17,
   "id": "a7f6df9c",
   "metadata": {},
   "outputs": [
    {
     "data": {
      "text/plain": [
       "1.0"
      ]
     },
     "execution_count": 17,
     "metadata": {},
     "output_type": "execute_result"
    }
   ],
   "source": [
    "# а). больше 182 см\n",
    "z_h(182)"
   ]
  },
  {
   "cell_type": "code",
   "execution_count": 18,
   "id": "d58184cb",
   "metadata": {},
   "outputs": [
    {
     "data": {
      "text/plain": [
       "15.866000000000003"
      ]
     },
     "execution_count": 18,
     "metadata": {},
     "output_type": "execute_result"
    }
   ],
   "source": [
    "P = (1 - 0.84134) * 100\n",
    "P"
   ]
  },
  {
   "cell_type": "markdown",
   "id": "97e528de",
   "metadata": {},
   "source": [
    "*Ответ а): вероятность 15.866 процентов.*"
   ]
  },
  {
   "cell_type": "code",
   "execution_count": 19,
   "id": "0fe16f07",
   "metadata": {},
   "outputs": [
    {
     "data": {
      "text/plain": [
       "2.0"
      ]
     },
     "execution_count": 19,
     "metadata": {},
     "output_type": "execute_result"
    }
   ],
   "source": [
    "# б). больше 190 см\n",
    "z_h(190)"
   ]
  },
  {
   "cell_type": "code",
   "execution_count": 20,
   "id": "34cc28d8",
   "metadata": {},
   "outputs": [
    {
     "data": {
      "text/plain": [
       "2.275000000000005"
      ]
     },
     "execution_count": 20,
     "metadata": {},
     "output_type": "execute_result"
    }
   ],
   "source": [
    "P = (1 - 0.97725) * 100\n",
    "P"
   ]
  },
  {
   "cell_type": "markdown",
   "id": "7fd434e0",
   "metadata": {},
   "source": [
    "*Ответ б): вероятность 2.275 проценттов.*"
   ]
  },
  {
   "cell_type": "code",
   "execution_count": 21,
   "id": "1c946a67",
   "metadata": {},
   "outputs": [
    {
     "data": {
      "text/plain": [
       "-1.0"
      ]
     },
     "execution_count": 21,
     "metadata": {},
     "output_type": "execute_result"
    }
   ],
   "source": [
    "# в). от 166 см до 190 см\n",
    "z_h(166)"
   ]
  },
  {
   "cell_type": "code",
   "execution_count": 22,
   "id": "ac68f37c",
   "metadata": {},
   "outputs": [],
   "source": [
    "# P(166) = 15.866 процентов "
   ]
  },
  {
   "cell_type": "code",
   "execution_count": 23,
   "id": "8ec81924",
   "metadata": {},
   "outputs": [
    {
     "data": {
      "text/plain": [
       "2.0"
      ]
     },
     "execution_count": 23,
     "metadata": {},
     "output_type": "execute_result"
    }
   ],
   "source": [
    "z_h(190)"
   ]
  },
  {
   "cell_type": "code",
   "execution_count": 24,
   "id": "3ee9588e",
   "metadata": {},
   "outputs": [],
   "source": [
    "# P(190) = 97.725 процентов."
   ]
  },
  {
   "cell_type": "code",
   "execution_count": 25,
   "id": "4123a60a",
   "metadata": {},
   "outputs": [
    {
     "data": {
      "text/plain": [
       "81.859"
      ]
     },
     "execution_count": 25,
     "metadata": {},
     "output_type": "execute_result"
    }
   ],
   "source": [
    "# P = p(190) - p(166)\n",
    "P = 97.725 - 15.866\n",
    "P"
   ]
  },
  {
   "cell_type": "markdown",
   "id": "9930d92c",
   "metadata": {},
   "source": [
    "*Ответ в): вероятность 81.859 процентов.*"
   ]
  },
  {
   "cell_type": "code",
   "execution_count": 26,
   "id": "2eece0b3",
   "metadata": {},
   "outputs": [
    {
     "data": {
      "text/plain": [
       "68.268"
      ]
     },
     "execution_count": 26,
     "metadata": {},
     "output_type": "execute_result"
    }
   ],
   "source": [
    "# г). от 166 см до 182 см\n",
    "P = 84.134 - 15.866\n",
    "P"
   ]
  },
  {
   "cell_type": "markdown",
   "id": "ad39f024",
   "metadata": {},
   "source": [
    "*Ответ г): вероятность 62.268 процентов.*"
   ]
  },
  {
   "cell_type": "code",
   "execution_count": 27,
   "id": "b9212f15",
   "metadata": {},
   "outputs": [
    {
     "data": {
      "text/plain": [
       "-2.0"
      ]
     },
     "execution_count": 27,
     "metadata": {},
     "output_type": "execute_result"
    }
   ],
   "source": [
    "# д). от 158 см до 190 см\n",
    "z_h(158)"
   ]
  },
  {
   "cell_type": "code",
   "execution_count": 28,
   "id": "50e40440",
   "metadata": {},
   "outputs": [
    {
     "data": {
      "text/plain": [
       "95.44999999999999"
      ]
     },
     "execution_count": 28,
     "metadata": {},
     "output_type": "execute_result"
    }
   ],
   "source": [
    "# P(158) = 2.275 процента\n",
    "# P = P(190) - P(158)\n",
    "P = 97.725 - 2.275\n",
    "P"
   ]
  },
  {
   "cell_type": "markdown",
   "id": "f795fe35",
   "metadata": {},
   "source": [
    "*Ответ д): вероятность 95.449 процентов.*"
   ]
  },
  {
   "cell_type": "code",
   "execution_count": 29,
   "id": "d1b9973f",
   "metadata": {},
   "outputs": [
    {
     "data": {
      "text/plain": [
       "-3.0"
      ]
     },
     "execution_count": 29,
     "metadata": {},
     "output_type": "execute_result"
    }
   ],
   "source": [
    "# е). не выше 150 см или не ниже 190 см\n",
    "z_h(150)"
   ]
  },
  {
   "cell_type": "code",
   "execution_count": 30,
   "id": "1f18df24",
   "metadata": {},
   "outputs": [
    {
     "data": {
      "text/plain": [
       "2.41"
      ]
     },
     "execution_count": 30,
     "metadata": {},
     "output_type": "execute_result"
    }
   ],
   "source": [
    "# P(150) = 0.135 процента\n",
    "# P = P(150) + (1 - P(190))\n",
    "P = 0.135 + 2.275\n",
    "P"
   ]
  },
  {
   "cell_type": "markdown",
   "id": "cbfef33d",
   "metadata": {},
   "source": [
    "*Ответ е): вероятность 2.41 процента.*"
   ]
  },
  {
   "cell_type": "code",
   "execution_count": 31,
   "id": "6e0e8464",
   "metadata": {},
   "outputs": [
    {
     "data": {
      "text/plain": [
       "3.0"
      ]
     },
     "execution_count": 31,
     "metadata": {},
     "output_type": "execute_result"
    }
   ],
   "source": [
    "# ё). не выше 150 см или не ниже 198 см\n",
    "z_h(198)"
   ]
  },
  {
   "cell_type": "code",
   "execution_count": 32,
   "id": "99b78903",
   "metadata": {},
   "outputs": [
    {
     "data": {
      "text/plain": [
       "0.27"
      ]
     },
     "execution_count": 32,
     "metadata": {},
     "output_type": "execute_result"
    }
   ],
   "source": [
    "# P(198) = 0.135 процента\n",
    "# P = P(150) + (1 - P(198))\n",
    "P = 0.135 + 0.135\n",
    "P"
   ]
  },
  {
   "cell_type": "markdown",
   "id": "4502b171",
   "metadata": {},
   "source": [
    "*Ответ ё): вероятность 0.27 процента.*"
   ]
  },
  {
   "cell_type": "code",
   "execution_count": 33,
   "id": "b1d8c592",
   "metadata": {},
   "outputs": [],
   "source": [
    "# ж). ниже 166 см.\n",
    "# P(166) = 15.866 процентов."
   ]
  },
  {
   "cell_type": "markdown",
   "id": "bb35e203",
   "metadata": {},
   "source": [
    "*Ответ ж): вероятность 15.866 процентов.*"
   ]
  },
  {
   "cell_type": "markdown",
   "id": "2651a60a",
   "metadata": {},
   "source": [
    "#### Задание-5"
   ]
  },
  {
   "cell_type": "code",
   "execution_count": 34,
   "id": "6f55e890",
   "metadata": {},
   "outputs": [],
   "source": [
    "# На сколько сигм (средних квадратичных отклонений) отклоняется рост человека, \n",
    "# равный 190 см, от математического ожидания роста в популяции, \n",
    "# в которой M(X) = 178 см и D(X) = 25 кв.см?"
   ]
  },
  {
   "cell_type": "code",
   "execution_count": 35,
   "id": "427dde52",
   "metadata": {},
   "outputs": [
    {
     "data": {
      "text/plain": [
       "2.4"
      ]
     },
     "execution_count": 35,
     "metadata": {},
     "output_type": "execute_result"
    }
   ],
   "source": [
    "# Решение: в соответствии с формулой Z=(X-mu)/sig получаем:\n",
    "Z = (190 - 178) / math.sqrt(25)\n",
    "Z"
   ]
  },
  {
   "cell_type": "markdown",
   "id": "1f43771d",
   "metadata": {},
   "source": [
    "*Ответ: рост человека в 190 см отклоняется от матожидания на +2.4 сигмы.*"
   ]
  }
 ],
 "metadata": {
  "kernelspec": {
   "display_name": "Python 3",
   "language": "python",
   "name": "python3"
  },
  "language_info": {
   "codemirror_mode": {
    "name": "ipython",
    "version": 3
   },
   "file_extension": ".py",
   "mimetype": "text/x-python",
   "name": "python",
   "nbconvert_exporter": "python",
   "pygments_lexer": "ipython3",
   "version": "3.8.6"
  }
 },
 "nbformat": 4,
 "nbformat_minor": 5
}
