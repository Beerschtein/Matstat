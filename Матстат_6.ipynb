{
 "cells": [
  {
   "cell_type": "code",
   "execution_count": 1,
   "id": "11ba52c6",
   "metadata": {},
   "outputs": [],
   "source": [
    "import numpy as np\n",
    "import pandas as pd"
   ]
  },
  {
   "cell_type": "markdown",
   "id": "86de97b2",
   "metadata": {},
   "source": [
    "####  Задание-1"
   ]
  },
  {
   "cell_type": "code",
   "execution_count": null,
   "id": "9b01fb5b",
   "metadata": {},
   "outputs": [],
   "source": [
    "# Даны значения величины заработной платы заемщиков банка (zp) и значения их поведенческого кредитного скоринга (ks):\n",
    "# zp = [35, 45, 190, 200, 40, 70, 54, 150, 120, 110],\n",
    "# ks = [401, 574, 874, 919, 459, 739, 653, 902, 746, 832].\n",
    "# Найдите ковариацию этих двух величин с помощью элементарных действий, а затем с помощью функции cov из numpy\n",
    "# Полученные значения должны быть равны.\n",
    "# Найдите коэффициент корреляции Пирсона с помощью ковариации и среднеквадратичных отклонений двух признаков,\n",
    "# а затем с использованием функций из библиотек numpy и pandas."
   ]
  },
  {
   "cell_type": "code",
   "execution_count": null,
   "id": "af123057",
   "metadata": {},
   "outputs": [],
   "source": [
    "# Решение: воспользуемся формулой для рассчета ковариации:\n",
    "# cov = M(XY) - M(X)*M(Y)"
   ]
  },
  {
   "cell_type": "code",
   "execution_count": 32,
   "id": "a3a69468",
   "metadata": {},
   "outputs": [],
   "source": [
    "zp = np.array([35, 45, 190, 200, 40, 70, 54, 150, 120, 110])\n",
    "ks = np.array([401, 574, 874, 919, 459, 739, 653, 902, 746, 832])"
   ]
  },
  {
   "cell_type": "code",
   "execution_count": 40,
   "id": "b1152562",
   "metadata": {},
   "outputs": [
    {
     "data": {
      "text/plain": [
       "9157.839999999997"
      ]
     },
     "execution_count": 40,
     "metadata": {},
     "output_type": "execute_result"
    }
   ],
   "source": [
    "cov = np.mean(zp*ks) - (np.mean(zp) * np.mean(ks))\n",
    "cov"
   ]
  },
  {
   "cell_type": "code",
   "execution_count": 41,
   "id": "8c1c3fc6",
   "metadata": {},
   "outputs": [
    {
     "data": {
      "text/plain": [
       "array([[ 3494.64,  9157.84],\n",
       "       [ 9157.84, 30468.89]])"
      ]
     },
     "execution_count": 41,
     "metadata": {},
     "output_type": "execute_result"
    }
   ],
   "source": [
    "# Проверим результат с помощью функции:\n",
    "np.cov(zp,ks,ddof=0)"
   ]
  },
  {
   "cell_type": "code",
   "execution_count": null,
   "id": "a5d7f68d",
   "metadata": {},
   "outputs": [],
   "source": [
    "# Коэффициент корелляции Пирсона наъходим по формуле5\n",
    "# r(XY) = COV(XY) / (sig(X)*sig(Y))"
   ]
  },
  {
   "cell_type": "code",
   "execution_count": 42,
   "id": "93bd1227",
   "metadata": {},
   "outputs": [
    {
     "data": {
      "text/plain": [
       "0.8874900920739158"
      ]
     },
     "execution_count": 42,
     "metadata": {},
     "output_type": "execute_result"
    }
   ],
   "source": [
    "r = cov / (np.std(zp) * np.std(ks))\n",
    "r"
   ]
  },
  {
   "cell_type": "code",
   "execution_count": 39,
   "id": "27fa9176",
   "metadata": {},
   "outputs": [
    {
     "data": {
      "text/plain": [
       "array([[1.        , 0.88749009],\n",
       "       [0.88749009, 1.        ]])"
      ]
     },
     "execution_count": 39,
     "metadata": {},
     "output_type": "execute_result"
    }
   ],
   "source": [
    "# Проверим результат с помощью функции:\n",
    "np.corrcoef(zp,ks)"
   ]
  },
  {
   "cell_type": "markdown",
   "id": "1bf9db14",
   "metadata": {},
   "source": [
    "*Ответ: ковариация двух этих величин равна 9157.84, а коэффициент корелляции Пирсона 0.88749009.*"
   ]
  },
  {
   "cell_type": "markdown",
   "id": "79aac46e",
   "metadata": {},
   "source": [
    "#### Задание-2"
   ]
  },
  {
   "cell_type": "code",
   "execution_count": null,
   "id": "ff78b6ec",
   "metadata": {},
   "outputs": [],
   "source": [
    "# Измерены значения IQ выборки студентов,\n",
    "# обучающихся в местных технических вузах:\n",
    "# 131, 125, 115, 122, 131, 115, 107, 99, 125, 111.\n",
    "# Известно, что в генеральной совокупности IQ распределен нормально.\n",
    "# Найдите доверительный интервал для математического ожидания с надежностью 0.95."
   ]
  },
  {
   "cell_type": "code",
   "execution_count": null,
   "id": "a628ab3a",
   "metadata": {},
   "outputs": [],
   "source": [
    "# Решение: так как сигма нам не известна, то используем t-таблицу, \n",
    "# а учитывая, что выборка состоит из 10 измерений - для рассчета сигмы \n",
    "# применяем формулу для несмещенного значения.\n",
    "# Интервал находим по формуле X(+/-)t(a/2)*sig/sqrt(n)"
   ]
  },
  {
   "cell_type": "code",
   "execution_count": 10,
   "id": "84607696",
   "metadata": {},
   "outputs": [],
   "source": [
    "set = np.array([131, 125, 115, 122, 131, 115, 107, 99, 125, 111])"
   ]
  },
  {
   "cell_type": "code",
   "execution_count": 11,
   "id": "00bbe47d",
   "metadata": {},
   "outputs": [
    {
     "data": {
      "text/plain": [
       "118.1"
      ]
     },
     "execution_count": 11,
     "metadata": {},
     "output_type": "execute_result"
    }
   ],
   "source": [
    "X = set.mean()\n",
    "X"
   ]
  },
  {
   "cell_type": "code",
   "execution_count": 14,
   "id": "d9446df2",
   "metadata": {},
   "outputs": [
    {
     "data": {
      "text/plain": [
       "10.54566788359614"
      ]
     },
     "execution_count": 14,
     "metadata": {},
     "output_type": "execute_result"
    }
   ],
   "source": [
    "# Значение t определяем по таблице:\n",
    "t = 2.262\n",
    "sig = set.std(ddof=1)\n",
    "sig"
   ]
  },
  {
   "cell_type": "code",
   "execution_count": 15,
   "id": "93523f1e",
   "metadata": {},
   "outputs": [
    {
     "data": {
      "text/plain": [
       "10"
      ]
     },
     "execution_count": 15,
     "metadata": {},
     "output_type": "execute_result"
    }
   ],
   "source": [
    "n = len(set)\n",
    "n"
   ]
  },
  {
   "cell_type": "code",
   "execution_count": 16,
   "id": "8e7990c0",
   "metadata": {},
   "outputs": [
    {
     "data": {
      "text/plain": [
       "110.55660776308164"
      ]
     },
     "execution_count": 16,
     "metadata": {},
     "output_type": "execute_result"
    }
   ],
   "source": [
    "int1 = X - t * (sig / np.sqrt(n))\n",
    "int1"
   ]
  },
  {
   "cell_type": "code",
   "execution_count": 17,
   "id": "3c812146",
   "metadata": {},
   "outputs": [
    {
     "data": {
      "text/plain": [
       "125.64339223691834"
      ]
     },
     "execution_count": 17,
     "metadata": {},
     "output_type": "execute_result"
    }
   ],
   "source": [
    "int2 = X + t * (sig / np.sqrt(n))\n",
    "int2"
   ]
  },
  {
   "cell_type": "markdown",
   "id": "44cb08d5",
   "metadata": {},
   "source": [
    "*Ответ: доверительный интервал находится в границах [110.56; 125.64].*"
   ]
  },
  {
   "cell_type": "markdown",
   "id": "f28433e8",
   "metadata": {},
   "source": [
    "#### Задание-3"
   ]
  },
  {
   "cell_type": "code",
   "execution_count": null,
   "id": "77c768aa",
   "metadata": {},
   "outputs": [],
   "source": [
    "# Известно, что рост футболистов в сборной распределен нормально\n",
    "# с дисперсией генеральной совокупности, равной 25 кв.см. Объем выборки равен 27,\n",
    "# среднее выборочное составляет 174.2. Найдите доверительный интервал для математического\n",
    "# ожидания с надежностью 0.95."
   ]
  },
  {
   "cell_type": "code",
   "execution_count": null,
   "id": "53e12e57",
   "metadata": {},
   "outputs": [],
   "source": [
    "# Решение: так как сигма нам известна, то используем Z-таблицу, \n",
    "# Интервал находим по формуле X(+/-)Z(a/2)*sig/sqrt(n)"
   ]
  },
  {
   "cell_type": "code",
   "execution_count": 23,
   "id": "3ce224e0",
   "metadata": {},
   "outputs": [],
   "source": [
    "D = 25\n",
    "n = 27\n",
    "Z = 1.96 \n",
    "X = 174.2"
   ]
  },
  {
   "cell_type": "code",
   "execution_count": 24,
   "id": "de8aee6f",
   "metadata": {},
   "outputs": [
    {
     "data": {
      "text/plain": [
       "5.0"
      ]
     },
     "execution_count": 24,
     "metadata": {},
     "output_type": "execute_result"
    }
   ],
   "source": [
    "sig = np.sqrt(D)\n",
    "sig"
   ]
  },
  {
   "cell_type": "code",
   "execution_count": 27,
   "id": "d7c03a59",
   "metadata": {},
   "outputs": [
    {
     "data": {
      "text/plain": [
       "172.31398912064722"
      ]
     },
     "execution_count": 27,
     "metadata": {},
     "output_type": "execute_result"
    }
   ],
   "source": [
    "int1 = X - Z * (sig / np.sqrt(n))\n",
    "int1"
   ]
  },
  {
   "cell_type": "code",
   "execution_count": 28,
   "id": "0771d72b",
   "metadata": {},
   "outputs": [
    {
     "data": {
      "text/plain": [
       "176.08601087935276"
      ]
     },
     "execution_count": 28,
     "metadata": {},
     "output_type": "execute_result"
    }
   ],
   "source": [
    "int2 = X + Z * (sig / np.sqrt(n))\n",
    "int2"
   ]
  },
  {
   "cell_type": "markdown",
   "id": "812d9b0f",
   "metadata": {},
   "source": [
    "*Ответ: доверительный интервал для математического ожидания находится в гшраницах [172.31; 176.09].*"
   ]
  }
 ],
 "metadata": {
  "kernelspec": {
   "display_name": "Python 3",
   "language": "python",
   "name": "python3"
  },
  "language_info": {
   "codemirror_mode": {
    "name": "ipython",
    "version": 3
   },
   "file_extension": ".py",
   "mimetype": "text/x-python",
   "name": "python",
   "nbconvert_exporter": "python",
   "pygments_lexer": "ipython3",
   "version": "3.8.8"
  }
 },
 "nbformat": 4,
 "nbformat_minor": 5
}
