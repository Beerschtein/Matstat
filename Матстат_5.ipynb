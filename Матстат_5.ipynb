{
 "cells": [
  {
   "cell_type": "code",
   "execution_count": 57,
   "id": "c27ec41f",
   "metadata": {},
   "outputs": [],
   "source": [
    "import numpy as np\n",
    "import pandas as pd\n",
    "import math\n",
    "from math import factorial\n",
    "import warnings\n",
    "warnings.filterwarnings('ignore')"
   ]
  },
  {
   "cell_type": "markdown",
   "id": "c633d836",
   "metadata": {},
   "source": [
    "#### Задание-1"
   ]
  },
  {
   "cell_type": "code",
   "execution_count": 58,
   "id": "820cd351",
   "metadata": {},
   "outputs": [],
   "source": [
    "# Известно, что генеральная совокупность распределена нормально\n",
    "# со средним квадратическим отклонением, равным 16.\n",
    "# Найти доверительный интервал для оценки математического ожидания a с надежностью 0.95,\n",
    "# если выборочная средняя M = 80, а объем выборки n = 256."
   ]
  },
  {
   "cell_type": "code",
   "execution_count": 59,
   "id": "005721ad",
   "metadata": {},
   "outputs": [],
   "source": [
    "# Решение: так как сигма нам известна, то используем Z-таблицу и применяем формулу\n",
    "# X(+/-)Z(a/2)*sig/sqrt(n)\n",
    "# Z(97.5%)=1.96"
   ]
  },
  {
   "cell_type": "code",
   "execution_count": 60,
   "id": "69ee7ad2",
   "metadata": {},
   "outputs": [
    {
     "data": {
      "text/plain": [
       "78.04"
      ]
     },
     "execution_count": 60,
     "metadata": {},
     "output_type": "execute_result"
    }
   ],
   "source": [
    "M = 80\n",
    "X = M\n",
    "n = 256\n",
    "sig = 16\n",
    "Z = 1.96\n",
    "int1 = X - Z*(sig / np.sqrt(n))\n",
    "int1"
   ]
  },
  {
   "cell_type": "code",
   "execution_count": 61,
   "id": "5641cfdf",
   "metadata": {},
   "outputs": [
    {
     "data": {
      "text/plain": [
       "81.96"
      ]
     },
     "execution_count": 61,
     "metadata": {},
     "output_type": "execute_result"
    }
   ],
   "source": [
    "int2 = X + Z*(sig / np.sqrt(n))\n",
    "int2"
   ]
  },
  {
   "cell_type": "markdown",
   "id": "07ee9a24",
   "metadata": {},
   "source": [
    "*Ответ: доверительный интервал будет расположен в границах [78.04; 81.96].*"
   ]
  },
  {
   "cell_type": "markdown",
   "id": "d5a2e169",
   "metadata": {},
   "source": [
    "#### Задание-2"
   ]
  },
  {
   "cell_type": "code",
   "execution_count": 62,
   "id": "e98e9e2b",
   "metadata": {},
   "outputs": [],
   "source": [
    "# В результате 10 независимых измерений некоторой величины X, выполненных с одинаковой точностью,\n",
    "# получены опытные данные:\n",
    "# 6.9, 6.1, 6.2, 6.8, 7.5, 6.3, 6.4, 6.9, 6.7, 6.1\n",
    "# Предполагая, что результаты измерений подчинены нормальному закону распределения вероятностей,\n",
    "# оценить истинное значение величины X при помощи доверительного интервала, покрывающего это\n",
    "# значение с доверительной вероятностью 0,95."
   ]
  },
  {
   "cell_type": "code",
   "execution_count": 63,
   "id": "9efe60da",
   "metadata": {},
   "outputs": [],
   "source": [
    "# Решение: так как сигма нам не известна, то используем t-таблицу, \n",
    "# а учитывая, что выборка состоит из 10 измерений - для рассчета сигмы \n",
    "# применяем формулу для несмещенного значения.\n",
    "# Интервал находим по формуле X(+/-)t(a/2)*sig/sqrt(n)"
   ]
  },
  {
   "cell_type": "code",
   "execution_count": 64,
   "id": "03ece14f",
   "metadata": {},
   "outputs": [
    {
     "data": {
      "text/plain": [
       "array([6.9, 6.1, 6.2, 6.8, 7.5, 6.3, 6.4, 6.9, 6.7, 6.1])"
      ]
     },
     "execution_count": 64,
     "metadata": {},
     "output_type": "execute_result"
    }
   ],
   "source": [
    "a = np.array([6.9, 6.1, 6.2, 6.8, 7.5, 6.3, 6.4, 6.9, 6.7, 6.1])\n",
    "a"
   ]
  },
  {
   "cell_type": "code",
   "execution_count": 65,
   "id": "fa6aadca",
   "metadata": {},
   "outputs": [
    {
     "data": {
      "text/plain": [
       "0    6.59\n",
       "dtype: float64"
      ]
     },
     "execution_count": 65,
     "metadata": {},
     "output_type": "execute_result"
    }
   ],
   "source": [
    "x = pd.DataFrame(a)\n",
    "x.mean()"
   ]
  },
  {
   "cell_type": "code",
   "execution_count": 66,
   "id": "3fa00011",
   "metadata": {},
   "outputs": [
    {
     "data": {
      "text/plain": [
       "0    0.450802\n",
       "dtype: float64"
      ]
     },
     "execution_count": 66,
     "metadata": {},
     "output_type": "execute_result"
    }
   ],
   "source": [
    "sig = x.std(ddof=1)\n",
    "sig"
   ]
  },
  {
   "cell_type": "code",
   "execution_count": 67,
   "id": "5fcf5ff6",
   "metadata": {},
   "outputs": [],
   "source": [
    "# t-коэффициент для выборки из десяти элементов равен 2.2621\n",
    "t = 2.2621"
   ]
  },
  {
   "cell_type": "code",
   "execution_count": 68,
   "id": "599b1f4e",
   "metadata": {},
   "outputs": [
    {
     "data": {
      "text/plain": [
       "0    6.653735\n",
       "dtype: float64"
      ]
     },
     "execution_count": 68,
     "metadata": {},
     "output_type": "execute_result"
    }
   ],
   "source": [
    "x1 = x.mean() + t * sig / np.sqrt(n)\n",
    "x1"
   ]
  },
  {
   "cell_type": "code",
   "execution_count": 69,
   "id": "2e8b2f77",
   "metadata": {},
   "outputs": [
    {
     "data": {
      "text/plain": [
       "0    6.526265\n",
       "dtype: float64"
      ]
     },
     "execution_count": 69,
     "metadata": {},
     "output_type": "execute_result"
    }
   ],
   "source": [
    "x2 = x.mean() - t * sig / np.sqrt(n)\n",
    "x2"
   ]
  },
  {
   "cell_type": "markdown",
   "id": "5ff82514",
   "metadata": {},
   "source": [
    "*Ответ: истинное значение величины Х находится в интервале [6.526265; 6.653735] с вероятностью 95%.*"
   ]
  },
  {
   "cell_type": "markdown",
   "id": "6cf2d392",
   "metadata": {},
   "source": [
    "#### Задание-3"
   ]
  },
  {
   "cell_type": "code",
   "execution_count": 70,
   "id": "2c1370c2",
   "metadata": {},
   "outputs": [],
   "source": [
    "# Утверждается, что шарики для подшипников, изготовленные автоматическим станком, имеют средний диаметр 17 мм.\n",
    "# Используя односторонний критерий с α=0,05, проверить эту гипотезу, если в выборке из n=100 шариков средний диаметр\n",
    "# оказался равным 17.5 мм, а дисперсия известна и равна 4 кв. мм."
   ]
  },
  {
   "cell_type": "code",
   "execution_count": 71,
   "id": "9374d690",
   "metadata": {},
   "outputs": [],
   "source": [
    "# Решение:\n",
    "# Н0: диаметр = 17 мм, mu=mu0\n",
    "# Н1: диаметр = 17.5 мм, mu>muo\n",
    "# Критерий Z-тест (сигма известна) и для α=0,05 ZH0 = 1.645\n",
    "# Найдем ZH1 и сравним его с ZH0. если гипотеза о том, чсто средний диаметр шариков = 17 мм верна,\n",
    "# то ZH0 будет больше ZH1."
   ]
  },
  {
   "cell_type": "code",
   "execution_count": 72,
   "id": "7f1efee1",
   "metadata": {},
   "outputs": [
    {
     "data": {
      "text/plain": [
       "2.5"
      ]
     },
     "execution_count": 72,
     "metadata": {},
     "output_type": "execute_result"
    }
   ],
   "source": [
    "D = 4\n",
    "n = 100\n",
    "sig = np.sqrt(D)\n",
    "ZH1 = (17.5 - 17) / (sig / np.sqrt(n))\n",
    "ZH1"
   ]
  },
  {
   "cell_type": "markdown",
   "id": "17548636",
   "metadata": {},
   "source": [
    "*Ответ: нулевая гипотеза неверна, шарики для подшипников, \n",
    "изготовленные автоматическим станком, имеют средний диаметр не 17 мм.*"
   ]
  },
  {
   "cell_type": "markdown",
   "id": "6f9fa1c3",
   "metadata": {},
   "source": [
    "#### задание-4"
   ]
  },
  {
   "cell_type": "code",
   "execution_count": 73,
   "id": "b5b01b7a",
   "metadata": {},
   "outputs": [],
   "source": [
    "# Продавец утверждает, что средний вес пачки печенья составляет 200 г. \n",
    "# Из партии извлечена выборка из 10 пачек.\n",
    "# Вес каждой пачки составляет: 202, 203, 199, 197, 195, 201, 200, 204, 194, 190. \n",
    "# Известно, что их веса распределены нормально. \n",
    "# Верно ли утверждение продавца, если учитывать, что доверительная вероятность равна 99%?"
   ]
  },
  {
   "cell_type": "code",
   "execution_count": 74,
   "id": "34f3e62a",
   "metadata": {},
   "outputs": [],
   "source": [
    "# Решение: введем нулевую гипотезу - Н0: mu0=200\n",
    "# H1: mu != mu0.\n",
    "# Так как сигма неизвестна применим t-критерий Стьюдента.\n",
    "mu0 = 200\n",
    "a = 0.01\n",
    "n = 10"
   ]
  },
  {
   "cell_type": "code",
   "execution_count": 75,
   "id": "f10e568d",
   "metadata": {},
   "outputs": [
    {
     "data": {
      "text/plain": [
       "array([202, 203, 199, 197, 195, 201, 200, 204, 194, 190])"
      ]
     },
     "execution_count": 75,
     "metadata": {},
     "output_type": "execute_result"
    }
   ],
   "source": [
    "a = np.array([202, 203, 199, 197, 195, 201, 200, 204, 194, 190])\n",
    "a"
   ]
  },
  {
   "cell_type": "code",
   "execution_count": 76,
   "id": "34ef86db",
   "metadata": {},
   "outputs": [
    {
     "data": {
      "text/plain": [
       "0    198.5\n",
       "dtype: float64"
      ]
     },
     "execution_count": 76,
     "metadata": {},
     "output_type": "execute_result"
    }
   ],
   "source": [
    "# Найдем среднее значение веса пачки:\n",
    "x = pd.DataFrame(a)\n",
    "x.mean()"
   ]
  },
  {
   "cell_type": "code",
   "execution_count": 77,
   "id": "828feccb",
   "metadata": {},
   "outputs": [
    {
     "data": {
      "text/plain": [
       "0    4.453463\n",
       "dtype: float64"
      ]
     },
     "execution_count": 77,
     "metadata": {},
     "output_type": "execute_result"
    }
   ],
   "source": [
    "# Вычислим несмещенное среднеквадратичное отклонение:\n",
    "sig = x.std(ddof=1)\n",
    "sig"
   ]
  },
  {
   "cell_type": "code",
   "execution_count": 78,
   "id": "c636806c",
   "metadata": {},
   "outputs": [],
   "source": [
    "# По таблице критических точек распределения Стьюдента найдем критическую точку\n",
    "# по уровню значимости α/2 = 0,005. \n",
    "t = 3.6896"
   ]
  },
  {
   "cell_type": "code",
   "execution_count": 79,
   "id": "7bbe6944",
   "metadata": {},
   "outputs": [
    {
     "data": {
      "text/plain": [
       "0   -1.065107\n",
       "dtype: float64"
      ]
     },
     "execution_count": 79,
     "metadata": {},
     "output_type": "execute_result"
    }
   ],
   "source": [
    "#  Вычислим наблюдаемое t по формуле:\n",
    "t_n = (x.mean() - mu0) / sig * np.sqrt(n)\n",
    "t_n"
   ]
  },
  {
   "cell_type": "markdown",
   "id": "c6aa3608",
   "metadata": {},
   "source": [
    "*Ответ: Так как t_n наблюдаемое меньше t (-1.065107 < 3.6896), то нулевую гипотезу о равенстве среднего веса 200 грамм можно принять.*"
   ]
  }
 ],
 "metadata": {
  "kernelspec": {
   "display_name": "Python 3",
   "language": "python",
   "name": "python3"
  },
  "language_info": {
   "codemirror_mode": {
    "name": "ipython",
    "version": 3
   },
   "file_extension": ".py",
   "mimetype": "text/x-python",
   "name": "python",
   "nbconvert_exporter": "python",
   "pygments_lexer": "ipython3",
   "version": "3.8.8"
  }
 },
 "nbformat": 4,
 "nbformat_minor": 5
}
